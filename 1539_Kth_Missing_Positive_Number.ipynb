{
  "nbformat": 4,
  "nbformat_minor": 0,
  "metadata": {
    "colab": {
      "name": "1539. Kth Missing Positive Number",
      "provenance": []
    },
    "kernelspec": {
      "name": "python3",
      "display_name": "Python 3"
    },
    "language_info": {
      "name": "python"
    }
  },
  "cells": [
    {
      "cell_type": "code",
      "metadata": {
        "id": "kJMw-oxksVvT"
      },
      "source": [
        "class Solution:\n",
        "    def findKthPositive(self, arr: List[int], k: int) -> int:\n",
        "        if k<arr[0]:\n",
        "            return k\n",
        "        k -= arr[0] - 1\n",
        "\n",
        "        for i,v in enumerate(arr[1:],start=1):\n",
        "            if arr[i-1]+1 != v:\n",
        "                 \n",
        "                l = len([n for n in range(arr[i-1]+1,v)])\n",
        "                \n",
        "                if k-l<=0:\n",
        "                    return arr[i-1]+k\n",
        "                k-=l\n",
        "                \n",
        "        return arr[-1]+k\n",
        "        \n",
        "                \n",
        "            "
      ],
      "execution_count": null,
      "outputs": []
    }
  ]
}