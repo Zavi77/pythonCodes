{
  "nbformat": 4,
  "nbformat_minor": 0,
  "metadata": {
    "colab": {
      "name": "371. Sum of Two Integers",
      "provenance": []
    },
    "kernelspec": {
      "name": "python3",
      "display_name": "Python 3"
    },
    "language_info": {
      "name": "python"
    }
  },
  "cells": [
    {
      "cell_type": "code",
      "metadata": {
        "id": "1obsypadpHOP"
      },
      "source": [
        "class Solution:\n",
        "    def getSum(self, a: int, b: int) -> int:\n",
        "        x,y = abs(a),abs(b)\n",
        "        if x < y:\n",
        "            y,x = x,y\n",
        "            a,b = b,a\n",
        "        sign = [-1,1][a>0]\n",
        "        if a*b>=0:\n",
        "            while y:\n",
        "                x,y = x^y, (x&y)<<1\n",
        "        else:\n",
        "            while y:\n",
        "                x,y = x^y, ((~x)&y)<<1\n",
        "            \n",
        "        return x*sign\n",
        "        "
      ],
      "execution_count": null,
      "outputs": []
    }
  ]
}