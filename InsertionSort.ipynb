{
 "cells": [
  {
   "cell_type": "code",
   "execution_count": 1,
   "metadata": {},
   "outputs": [],
   "source": [
    "arr = [5,9,3,10,45,2,0]"
   ]
  },
  {
   "cell_type": "code",
   "execution_count": 2,
   "metadata": {},
   "outputs": [],
   "source": [
    "def fun(arr):\n",
    "    for i in range(1,len(arr)):\n",
    "        temp = arr[i]\n",
    "        for j in range(i-1, -1,-1):\n",
    "            if temp< arr[j]:\n",
    "                if j==0:\n",
    "                    arr[j+1] = arr[j]\n",
    "                    arr[j] =temp\n",
    "                else:\n",
    "                    arr[j+1] = arr[j]\n",
    "            else:\n",
    "                arr[j+1] =temp\n",
    "                break\n",
    "        print(arr)\n",
    "    return"
   ]
  },
  {
   "cell_type": "code",
   "execution_count": 3,
   "metadata": {},
   "outputs": [
    {
     "name": "stdout",
     "output_type": "stream",
     "text": [
      "[5, 9, 3, 10, 45, 2, 0]\n",
      "[3, 5, 9, 10, 45, 2, 0]\n",
      "[3, 5, 9, 10, 45, 2, 0]\n",
      "[3, 5, 9, 10, 45, 2, 0]\n",
      "[2, 3, 5, 9, 10, 45, 0]\n",
      "[0, 2, 3, 5, 9, 10, 45]\n"
     ]
    }
   ],
   "source": [
    "fun(arr)"
   ]
  }
 ],
 "metadata": {
  "kernelspec": {
   "display_name": "Python 3",
   "language": "python",
   "name": "python3"
  },
  "language_info": {
   "codemirror_mode": {
    "name": "ipython",
    "version": 3
   },
   "file_extension": ".py",
   "mimetype": "text/x-python",
   "name": "python",
   "nbconvert_exporter": "python",
   "pygments_lexer": "ipython3",
   "version": "3.7.4"
  }
 },
 "nbformat": 4,
 "nbformat_minor": 2
}
