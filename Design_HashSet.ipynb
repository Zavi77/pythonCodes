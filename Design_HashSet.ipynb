{
  "nbformat": 4,
  "nbformat_minor": 0,
  "metadata": {
    "colab": {
      "name": "Design HashSet",
      "provenance": [],
      "collapsed_sections": []
    },
    "kernelspec": {
      "name": "python3",
      "display_name": "Python 3"
    },
    "language_info": {
      "name": "python"
    }
  },
  "cells": [
    {
      "cell_type": "code",
      "metadata": {
        "id": "sHERLGlZec13"
      },
      "source": [
        "class Node:\n",
        "  def __init__(self, value, nextNode = None):\n",
        "    self.val = value\n",
        "    self.next = nextNode"
      ],
      "execution_count": 129,
      "outputs": []
    },
    {
      "cell_type": "code",
      "metadata": {
        "id": "aKtjZS1decze"
      },
      "source": [
        "class Bucket:\n",
        "  def __init__(self):\n",
        "    self.head = Node(0)\n",
        "\n",
        "  def insert(self, newValue):\n",
        "    if not self.exists(newValue):\n",
        "      newNode = Node(newValue,self.head.next)\n",
        "      self.head.next = newNode\n",
        "\n",
        "  def delete(self,value):\n",
        "    prev = self.head\n",
        "    curr = self.head.next\n",
        "    while curr.next is not None:\n",
        "      if curr.val == value:\n",
        "        prev.next = curr.next\n",
        "        return\n",
        "      prev = curr\n",
        "      curr = curr.next\n",
        "\n",
        "\n",
        "  def exists(self,value):\n",
        "    curr = self.head.next\n",
        "    while curr is not None:\n",
        "      if curr.val == value:\n",
        "        return True\n",
        "      curr = curr.next\n",
        "    return False\n"
      ],
      "execution_count": 130,
      "outputs": []
    },
    {
      "cell_type": "code",
      "metadata": {
        "id": "hN8YyCIcieLR"
      },
      "source": [
        "class myHashSet(object):\n",
        "  def __init__(self):\n",
        "    self.key_range = 769\n",
        "    self.bucketArray = [Bucket() for i in range(self.key_range)]\n",
        "\n",
        "  def _hash(self,key):\n",
        "    return key % self.key_range\n",
        "\n",
        "\n",
        "  def add(self,key):\n",
        "    bucketIndex = self._hash(key)\n",
        "    self.bucketArray[bucketIndex].insert(key)\n",
        "\n",
        "\n",
        "  def remove(self,key):\n",
        "    bucketIndex = self._hash(key)\n",
        "    self.bucketArray[bucketIndex].delete(key)\n",
        "\n",
        "  def contains(self,key):  \n",
        "    bucketIndex = self._hash(key)\n",
        "    self.bucketArray[bucketIndex].exists(key)"
      ],
      "execution_count": 137,
      "outputs": []
    },
    {
      "cell_type": "code",
      "metadata": {
        "id": "22TDA06vec4Z"
      },
      "source": [
        "obj = myHashSet()\n",
        "obj.add(5)\n",
        "obj.add(9)\n",
        "obj.remove(9)\n",
        "v = obj.contains(5)\n"
      ],
      "execution_count": 140,
      "outputs": []
    }
  ]
}