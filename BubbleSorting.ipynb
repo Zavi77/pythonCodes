{
 "cells": [
  {
   "cell_type": "code",
   "execution_count": 1,
   "metadata": {},
   "outputs": [],
   "source": [
    "v1 = ['a','z','y','b','k']\n",
    "v2 = [1,2,65,34,7,8]\n"
   ]
  },
  {
   "cell_type": "code",
   "execution_count": 2,
   "metadata": {},
   "outputs": [],
   "source": [
    "def fun(v):\n",
    "    j=len(v)\n",
    "    count=0\n",
    "    while j>0:\n",
    "        print(v)\n",
    "        flag = False\n",
    "        for i in range(len(v[:j])-1):\n",
    "            count+=1\n",
    "            if v[i] > v[i+1]:\n",
    "                v[i],v[i+1] = v[i+1],v[i]\n",
    "                flag = True\n",
    "        j-=1\n",
    "        if flag == False:\n",
    "            break\n",
    "    print(f'Total comparison: {count}')\n",
    "    return v"
   ]
  },
  {
   "cell_type": "code",
   "execution_count": 3,
   "metadata": {},
   "outputs": [
    {
     "name": "stdout",
     "output_type": "stream",
     "text": [
      "[1, 2, 65, 34, 7, 8]\n",
      "[1, 2, 34, 7, 8, 65]\n",
      "[1, 2, 7, 8, 34, 65]\n",
      "Total comparison: 12\n"
     ]
    },
    {
     "data": {
      "text/plain": [
       "[1, 2, 7, 8, 34, 65]"
      ]
     },
     "execution_count": 3,
     "metadata": {},
     "output_type": "execute_result"
    }
   ],
   "source": [
    "fun(v2)"
   ]
  }
 ],
 "metadata": {
  "kernelspec": {
   "display_name": "Python 3",
   "language": "python",
   "name": "python3"
  },
  "language_info": {
   "codemirror_mode": {
    "name": "ipython",
    "version": 3
   },
   "file_extension": ".py",
   "mimetype": "text/x-python",
   "name": "python",
   "nbconvert_exporter": "python",
   "pygments_lexer": "ipython3",
   "version": "3.7.4"
  }
 },
 "nbformat": 4,
 "nbformat_minor": 2
}
