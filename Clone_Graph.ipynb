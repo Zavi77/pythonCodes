{
  "nbformat": 4,
  "nbformat_minor": 0,
  "metadata": {
    "colab": {
      "name": "Clone Graph",
      "provenance": []
    },
    "kernelspec": {
      "name": "python3",
      "display_name": "Python 3"
    },
    "language_info": {
      "name": "python"
    }
  },
  "cells": [
    {
      "cell_type": "code",
      "metadata": {
        "id": "ueGzKJgFK1v8"
      },
      "source": [
        "\n",
        "# Definition for a Node.\n",
        "class Node:\n",
        "    def __init__(self, val = 0, neighbors = None):\n",
        "        self.val = val\n",
        "        self.neighbors = neighbors if neighbors is not None else []\n",
        "\n",
        "\n",
        "class Solution:\n",
        "    def __init__(self):\n",
        "        self.visited = {}\n",
        "        \n",
        "    def cloneGraph(self, node: 'Node') -> 'Node':\n",
        "        if not node:\n",
        "            return node\n",
        "                 \n",
        "        \n",
        "        if node in self.visited:\n",
        "            return self.visited[node]\n",
        "        \n",
        "        clone_node = Node(node.val,[])\n",
        "        \n",
        "        self.visited[node] = clone_node\n",
        "        \n",
        "        if node.neighbors:\n",
        "            clone_node.neighbors = [self.cloneGraph(n) for n in node.neighbors]\n",
        "            \n",
        "        return clone_node\n",
        "            "
      ],
      "execution_count": null,
      "outputs": []
    },
    {
      "cell_type": "code",
      "metadata": {
        "id": "qFGBjFzsK2gR"
      },
      "source": [
        ""
      ],
      "execution_count": null,
      "outputs": []
    }
  ]
}