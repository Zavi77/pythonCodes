{
  "nbformat": 4,
  "nbformat_minor": 0,
  "metadata": {
    "colab": {
      "name": "938. Range Sum of BST",
      "provenance": []
    },
    "kernelspec": {
      "name": "python3",
      "display_name": "Python 3"
    },
    "language_info": {
      "name": "python"
    }
  },
  "cells": [
    {
      "cell_type": "code",
      "metadata": {
        "id": "9pA_Lrb-ZKlf"
      },
      "source": [
        "# Definition for a binary tree node.\n",
        "# class TreeNode:\n",
        "#     def __init__(self, val=0, left=None, right=None):\n",
        "#         self.val = val\n",
        "#         self.left = left\n",
        "#         self.right = right\n",
        "class Solution:\n",
        "    def rangeSumBST(self, root: TreeNode, low: int, high: int) -> int:\n",
        "        total = 0\n",
        "        stack = [root]\n",
        "        while(stack):\n",
        "            node = stack.pop()\n",
        "            if node:\n",
        "                if node.val > low:\n",
        "                    stack.append(node.left)\n",
        "                if node.val < high:\n",
        "                    stack.append(node.right)\n",
        "                if low <= node.val <= high:\n",
        "                    total += node.val\n",
        "                    \n",
        "        return total"
      ],
      "execution_count": null,
      "outputs": []
    }
  ]
}