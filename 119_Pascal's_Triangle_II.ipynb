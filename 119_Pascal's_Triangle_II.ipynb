{
  "nbformat": 4,
  "nbformat_minor": 0,
  "metadata": {
    "colab": {
      "name": "119. Pascal's Triangle II",
      "provenance": []
    },
    "kernelspec": {
      "name": "python3",
      "display_name": "Python 3"
    },
    "language_info": {
      "name": "python"
    }
  },
  "cells": [
    {
      "cell_type": "code",
      "metadata": {
        "id": "hx3gbC9e82W6"
      },
      "source": [
        "from functools import lru_cache\n",
        "class Solution:\n",
        "    def getRow(self, rowIndex: int) -> List[int]:\n",
        "        @lru_cache(None)\n",
        "        def getv(i,j):\n",
        "            if j==0 or j==i:\n",
        "                return 1\n",
        "            return getv(i-1,j-1) + getv(i-1,j)\n",
        "        res=[]\n",
        "        for j in range(rowIndex+1):\n",
        "            res.append(getv(rowIndex,j))\n",
        "        return res"
      ],
      "execution_count": null,
      "outputs": []
    }
  ]
}