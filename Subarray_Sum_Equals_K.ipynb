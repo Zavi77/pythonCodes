{
  "nbformat": 4,
  "nbformat_minor": 0,
  "metadata": {
    "colab": {
      "name": "Subarray Sum Equals K.ipynb",
      "provenance": []
    },
    "kernelspec": {
      "name": "python3",
      "display_name": "Python 3"
    },
    "language_info": {
      "name": "python"
    }
  },
  "cells": [
    {
      "cell_type": "code",
      "metadata": {
        "id": "Hb6jeSmEhia1"
      },
      "source": [
        "def fun(nums,k):\n",
        "  res = 0\n",
        "  dc = {0:1}\n",
        "  sum = 0\n",
        "  for i in nums:\n",
        "    sum+=i\n",
        "    diff = sum-k\n",
        "    res +=  dc.get(diff,0)\n",
        "    dc[sum]= 1+dc.get(sum,0)\n",
        "  return res\n",
        "  \n"
      ],
      "execution_count": 64,
      "outputs": []
    },
    {
      "cell_type": "code",
      "metadata": {
        "colab": {
          "base_uri": "https://localhost:8080/"
        },
        "id": "1x_6hzsDjTfj",
        "outputId": "eef3ae37-b7c8-4fd2-ec6f-e73801e35299"
      },
      "source": [
        "nums = [1,2,3]\n",
        "k = 3\n",
        "fun(nums,k)"
      ],
      "execution_count": 65,
      "outputs": [
        {
          "output_type": "execute_result",
          "data": {
            "text/plain": [
              "2"
            ]
          },
          "metadata": {
            "tags": []
          },
          "execution_count": 65
        }
      ]
    }
  ]
}