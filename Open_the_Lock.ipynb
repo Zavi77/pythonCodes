{
  "nbformat": 4,
  "nbformat_minor": 0,
  "metadata": {
    "colab": {
      "name": "Open the Lock",
      "provenance": [],
      "collapsed_sections": []
    },
    "kernelspec": {
      "name": "python3",
      "display_name": "Python 3"
    },
    "language_info": {
      "name": "python"
    }
  },
  "cells": [
    {
      "cell_type": "markdown",
      "metadata": {
        "id": "XZJF9k_razh7"
      },
      "source": [
        "BFS approach"
      ]
    },
    {
      "cell_type": "code",
      "metadata": {
        "id": "wAq_zmT8stym"
      },
      "source": [
        "from collections import deque\n",
        "\n",
        "def openLock(target,deadends) -> int:\n",
        "  deadset = set(deadends)\n",
        "  if '0000' in deadset:\n",
        "    return -1\n",
        "\n",
        "  count =0\n",
        "  visit = set()\n",
        "  q = deque(['0000'])\n",
        "  visit.add(('0000'))\n",
        "  while(q):\n",
        "    for _ in range(len(q)):\n",
        "      cur = q.popleft()\n",
        "      if cur == target:\n",
        "        return count\n",
        "      for i in range(4):\n",
        "        digit = (int(cur[i]) +1)%10\n",
        "        newcur = cur[:i] + str(digit) + cur[i+1:]\n",
        "        if (newcur not in visit) and (newcur not in deadset):\n",
        "          q.append(newcur)\n",
        "          visit.add(newcur)\n",
        "      \n",
        "        digit = (int(cur[i]) -1)%10\n",
        "        newcur = cur[:i] + str(digit) + cur[i+1:]\n",
        "        if (newcur not in visit) and (newcur not in deadset):\n",
        "          q.append(newcur)\n",
        "          visit.add(newcur)\n",
        "\n",
        "    count+=1\n",
        "  return -1"
      ],
      "execution_count": 8,
      "outputs": []
    },
    {
      "cell_type": "code",
      "metadata": {
        "colab": {
          "base_uri": "https://localhost:8080/"
        },
        "id": "ic4rFV6Ff0IE",
        "outputId": "0476ea3a-d1f2-4f71-f69d-acbd0cda4a73"
      },
      "source": [
        "target = '0202'\n",
        "deadEnds = [\"0201\",\"0101\",\"0102\",\"1212\",\"2002\"]\n",
        "openLock(target,deadEnds)"
      ],
      "execution_count": 9,
      "outputs": [
        {
          "output_type": "execute_result",
          "data": {
            "text/plain": [
              "6"
            ]
          },
          "metadata": {
            "tags": []
          },
          "execution_count": 9
        }
      ]
    }
  ]
}