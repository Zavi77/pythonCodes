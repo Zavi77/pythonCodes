{
  "nbformat": 4,
  "nbformat_minor": 0,
  "metadata": {
    "colab": {
      "name": "Queue Removals",
      "provenance": []
    },
    "kernelspec": {
      "name": "python3",
      "display_name": "Python 3"
    },
    "language_info": {
      "name": "python"
    }
  },
  "cells": [
    {
      "cell_type": "code",
      "metadata": {
        "id": "5dG18C8FnBoZ"
      },
      "source": [
        "from operator import itemgetter\n",
        "\n",
        "# Add any helper functions you may need here\n",
        "\n",
        "\n",
        "def findPositions(arr, x):\n",
        "  # Write your code here\n",
        "  q = [(v,i) for i,v in enumerate(arr,start=1)]\n",
        "  res = []\n",
        "\n",
        "  for _ in range(x):\n",
        "      temp = q[:x]\n",
        "      maxv = max(temp,key=itemgetter(0))\n",
        "      res.append(maxv[1])\n",
        "      temp.remove(maxv)\n",
        "      temp = [(t-1,j) if t >0 else (t,j) for t,j in temp ]\n",
        "      q = q[x:] + temp  \n",
        "  return res\n",
        "from operator import itemgetter"
      ],
      "execution_count": null,
      "outputs": []
    }
  ]
}