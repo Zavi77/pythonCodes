{
  "nbformat": 4,
  "nbformat_minor": 0,
  "metadata": {
    "colab": {
      "name": "905. Sort Array By Parity",
      "provenance": [],
      "collapsed_sections": []
    },
    "kernelspec": {
      "name": "python3",
      "display_name": "Python 3"
    },
    "language_info": {
      "name": "python"
    }
  },
  "cells": [
    {
      "cell_type": "code",
      "metadata": {
        "id": "TpkqPIp8YLi9"
      },
      "source": [
        "class Solution:\n",
        "    def sortArrayByParity(self, nums: List[int]) -> List[int]:\n",
        "        l,r = 0, len(nums)-1\n",
        "        while l<r:\n",
        "            if nums[l]%2 != 0:\n",
        "                nums[l],nums[r]= nums[r],nums[l]\n",
        "                r-=1\n",
        "            else:\n",
        "                l+=1\n",
        "        return nums\n",
        "            "
      ],
      "execution_count": null,
      "outputs": []
    }
  ]
}