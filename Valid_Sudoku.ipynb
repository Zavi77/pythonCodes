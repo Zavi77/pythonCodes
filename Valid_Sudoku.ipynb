{
  "nbformat": 4,
  "nbformat_minor": 0,
  "metadata": {
    "colab": {
      "name": "Valid Sudoku",
      "provenance": []
    },
    "kernelspec": {
      "name": "python3",
      "display_name": "Python 3"
    },
    "language_info": {
      "name": "python"
    }
  },
  "cells": [
    {
      "cell_type": "code",
      "metadata": {
        "id": "6wtvRyREZEYI"
      },
      "source": [
        "from collections import Counter\n",
        "from itertools import chain\n",
        "class Solution:\n",
        "    def isValidSudoku(self, board: List[List[str]]) -> bool:\n",
        "        for row in board:\n",
        "            if sum([1 if i!='.' and v>1 else 0 for i,v in Counter(row).items()]) > 0:\n",
        "                return False\n",
        "    \n",
        "        for col in range(9):\n",
        "            li = []\n",
        "            for row in board:\n",
        "                li.append(row[col])\n",
        "            if sum([1 if i!='.' and v>1 else 0 for i,v in Counter(li).items()]) > 0:\n",
        "                return False\n",
        "            \n",
        "        def check(rs,re,cs,ce):\n",
        "            li = []\n",
        "            for row in board[rs:re]:\n",
        "                li.append(row[cs:ce])\n",
        " \n",
        "            li = list(chain.from_iterable(li))\n",
        "            if sum([1 if i!='.' and v>1 else 0 for i,v in Counter(li).items()]) > 0:\n",
        "                return False \n",
        "            return True\n",
        "        \n",
        "        return all([check(0,3,0,3),check(3,6,0,3),check(6,9,0,3),check(0,3,3,6),check(3,6,3,6),check(6,9,3,6),check(0,3,6,9),check(3,6,6,9),check(6,9,6,9)])"
      ],
      "execution_count": null,
      "outputs": []
    },
    {
      "cell_type": "markdown",
      "metadata": {
        "id": "_awRNIwGYtPl"
      },
      "source": [
        "Optimal"
      ]
    },
    {
      "cell_type": "code",
      "metadata": {
        "id": "WJo77VHTZEay"
      },
      "source": [
        "from collections import Counter\n",
        "from itertools import chain\n",
        "class Solution:\n",
        "    def isValidSudoku(self, board: List[List[str]]) -> bool:\n",
        "        seen = []\n",
        "        for i,row in enumerate(board):\n",
        "            for j,c in enumerate(row):\n",
        "                if c!='.':\n",
        "                    seen+= [(c,j),(i,c),(i//3,j//3,c)]\n",
        "        return len(seen) == len(set(seen))\n",
        "                "
      ],
      "execution_count": null,
      "outputs": []
    }
  ]
}