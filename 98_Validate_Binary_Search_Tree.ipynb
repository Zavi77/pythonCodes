{
  "nbformat": 4,
  "nbformat_minor": 0,
  "metadata": {
    "colab": {
      "name": "98. Validate Binary Search Tree",
      "provenance": []
    },
    "kernelspec": {
      "name": "python3",
      "display_name": "Python 3"
    },
    "language_info": {
      "name": "python"
    }
  },
  "cells": [
    {
      "cell_type": "code",
      "metadata": {
        "id": "n9LT6Y_KWwTN"
      },
      "source": [
        "# Definition for a binary tree node.\n",
        "# class TreeNode:\n",
        "#     def __init__(self, val=0, left=None, right=None):\n",
        "#         self.val = val\n",
        "#         self.left = left\n",
        "#         self.right = right\n",
        "class Solution:\n",
        "    def isValidBST(self,root: TreeNode) -> bool:\n",
        "        if not root:\n",
        "            return True\n",
        "        low , high = float('-inf'), float('inf')\n",
        "        stack = [(root,low,high)]\n",
        "\n",
        "        while(stack):\n",
        "            node,low,high = stack.pop()\n",
        "            if node:\n",
        "                if high<=node.val or node.val <= low:\n",
        "                    return False\n",
        "                stack.append((node.right,node.val,high))\n",
        "                stack.append((node.left,low,node.val))\n",
        "                \n",
        "        return True\n",
        "                "
      ],
      "execution_count": null,
      "outputs": []
    },
    {
      "cell_type": "code",
      "metadata": {
        "id": "tBzv5sXQW0Gq"
      },
      "source": [
        "class Solution:\n",
        "    def isValidBST(self,root: TreeNode) -> bool:\n",
        "\n",
        "        self.prev = float('-inf')\n",
        "        \n",
        "        def helper(root):\n",
        "            if not root:\n",
        "                return True\n",
        "            if not helper(root.left):\n",
        "                return False\n",
        "            if root.val <= self.prev:\n",
        "                return False\n",
        "            self.prev = root.val\n",
        "            return helper(root.right)\n",
        "        return helper(root)\n"
      ],
      "execution_count": null,
      "outputs": []
    },
    {
      "cell_type": "code",
      "metadata": {
        "id": "kvHJTVZVWwVR"
      },
      "source": [
        ""
      ],
      "execution_count": null,
      "outputs": []
    }
  ]
}