{
  "nbformat": 4,
  "nbformat_minor": 0,
  "metadata": {
    "colab": {
      "name": "Valid Palindrome.ipynb",
      "provenance": []
    },
    "kernelspec": {
      "name": "python3",
      "display_name": "Python 3"
    },
    "language_info": {
      "name": "python"
    }
  },
  "cells": [
    {
      "cell_type": "code",
      "metadata": {
        "id": "ZsiKdsQVqsVd"
      },
      "source": [
        "\n",
        "def isPalindrome(s: str) -> bool:\n",
        "    i = 0\n",
        "    j = len(s)-1\n",
        "    s = s.lower()\n",
        "    while(i<j):\n",
        "        while i<j and not s[i].isalnum():\n",
        "            i+=1\n",
        "        if not s[j].isalnum():\n",
        "            j-=1\n",
        "        if s[i] != s[j]:\n",
        "            return False\n",
        "    i+=1\n",
        "    j-=1\n",
        "    return True\n"
      ],
      "execution_count": 28,
      "outputs": []
    },
    {
      "cell_type": "code",
      "metadata": {
        "id": "p-Np4KbPqt0X"
      },
      "source": [
        "isPalindrome(s='carac')"
      ],
      "execution_count": null,
      "outputs": []
    }
  ]
}