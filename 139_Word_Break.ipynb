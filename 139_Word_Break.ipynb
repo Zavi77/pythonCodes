{
  "nbformat": 4,
  "nbformat_minor": 0,
  "metadata": {
    "colab": {
      "name": "139. Word Break.ipynb",
      "provenance": []
    },
    "kernelspec": {
      "name": "python3",
      "display_name": "Python 3"
    },
    "language_info": {
      "name": "python"
    }
  },
  "cells": [
    {
      "cell_type": "code",
      "metadata": {
        "id": "5rTcE3KegBAk"
      },
      "source": [
        "from functools import lru_cache\n",
        "\n",
        "def fun(s,wordDict):\n",
        "    if len(s)==0:\n",
        "        return True\n",
        "    for i in range(len(s)):\n",
        "        print(s[:i+1])\n",
        "        if s[:i+1] in wordDict and fun(s[i+1:],wordDict):\n",
        "            return True\n",
        "    return False"
      ],
      "execution_count": 7,
      "outputs": []
    },
    {
      "cell_type": "code",
      "metadata": {
        "colab": {
          "base_uri": "https://localhost:8080/"
        },
        "id": "sT1BV8XEwX92",
        "outputId": "c23c8045-0fff-4101-8868-9a00c891d201"
      },
      "source": [
        "fun(\"catsandog\",[\"cats\",\"dog\",\"sand\",\"and\",\"cat\"])"
      ],
      "execution_count": 12,
      "outputs": [
        {
          "output_type": "stream",
          "text": [
            "c\n",
            "ca\n",
            "cat\n",
            "s\n",
            "sa\n",
            "san\n",
            "sand\n",
            "o\n",
            "og\n",
            "sando\n",
            "sandog\n",
            "cats\n",
            "a\n",
            "an\n",
            "and\n",
            "o\n",
            "og\n",
            "ando\n",
            "andog\n",
            "catsa\n",
            "catsan\n",
            "catsand\n",
            "catsando\n",
            "catsandog\n"
          ],
          "name": "stdout"
        },
        {
          "output_type": "execute_result",
          "data": {
            "text/plain": [
              "False"
            ]
          },
          "metadata": {
            "tags": []
          },
          "execution_count": 12
        }
      ]
    }
  ]
}