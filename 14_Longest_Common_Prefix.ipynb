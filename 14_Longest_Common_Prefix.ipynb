{
  "nbformat": 4,
  "nbformat_minor": 0,
  "metadata": {
    "colab": {
      "name": "14. Longest Common Prefix",
      "provenance": []
    },
    "kernelspec": {
      "name": "python3",
      "display_name": "Python 3"
    },
    "language_info": {
      "name": "python"
    }
  },
  "cells": [
    {
      "cell_type": "code",
      "metadata": {
        "id": "1obsypadpHOP"
      },
      "source": [
        "class Solution:\n",
        "    def longestCommonPrefix(self, strs: List[str]) -> str:\n",
        "        if not strs: return ''\n",
        "        s1 = min(strs)\n",
        "        s2 = max(strs)\n",
        "        \n",
        "        for i,v in enumerate(s1):\n",
        "            if s2[i]!=v:\n",
        "                return s2[:i]\n",
        "        return s1"
      ],
      "execution_count": null,
      "outputs": []
    }
  ]
}