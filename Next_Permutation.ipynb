{
  "nbformat": 4,
  "nbformat_minor": 0,
  "metadata": {
    "colab": {
      "name": "Next Permutation",
      "provenance": [],
      "collapsed_sections": []
    },
    "kernelspec": {
      "name": "python3",
      "display_name": "Python 3"
    },
    "language_info": {
      "name": "python"
    }
  },
  "cells": [
    {
      "cell_type": "code",
      "metadata": {
        "id": "na0mWRlEZHO-"
      },
      "source": [
        "def fun1(nums):\n",
        "  if len(nums)<=2:\n",
        "    return nums.reverse()\n",
        "  pointer = len(nums)-2\n",
        "  while(pointer >= 0 and nums[pointer] >= nums[pointer+1]):\n",
        "      pointer -=1\n",
        "  if pointer == -1:\n",
        "    return nums.reverse()\n",
        "  \n",
        "  for j in range(len(nums)-1,pointer,-1):\n",
        "    if nums[j]>nums[pointer]:\n",
        "      nums[pointer], nums[j] = nums[j], nums[pointer]\n",
        "      break\n",
        "  nums[pointer+1:] = reversed(nums[pointer+1:])"
      ],
      "execution_count": 59,
      "outputs": []
    },
    {
      "cell_type": "code",
      "metadata": {
        "colab": {
          "base_uri": "https://localhost:8080/"
        },
        "id": "-cBbaxi7ZH4b",
        "outputId": "11b0320e-e2ab-40a8-b759-e694c1bbcf0f"
      },
      "source": [
        "fun1([1,3,2])"
      ],
      "execution_count": 60,
      "outputs": [
        {
          "output_type": "stream",
          "text": [
            "[2, 1, 3]\n"
          ],
          "name": "stdout"
        }
      ]
    },
    {
      "cell_type": "code",
      "metadata": {
        "id": "fZXcJ_W1ZH6s"
      },
      "source": [
        ""
      ],
      "execution_count": null,
      "outputs": []
    },
    {
      "cell_type": "code",
      "metadata": {
        "id": "q9qsgW5RZH9V"
      },
      "source": [
        ""
      ],
      "execution_count": null,
      "outputs": []
    },
    {
      "cell_type": "code",
      "metadata": {
        "id": "0GB0xEZnZIAH"
      },
      "source": [
        ""
      ],
      "execution_count": null,
      "outputs": []
    },
    {
      "cell_type": "markdown",
      "metadata": {
        "id": "KwjsncwaZCi4"
      },
      "source": [
        "n! solution"
      ]
    },
    {
      "cell_type": "code",
      "metadata": {
        "id": "5qF5HS2WAWLC"
      },
      "source": [
        "from itertools import permutations\n",
        "\n",
        "def fun(l):\n",
        "  arr = list(permutations(sorted(l)))\n",
        "  print(arr)\n",
        "  for i,v in enumerate(arr):\n",
        "    if list(v) == l:\n",
        "      if i+1 < len(arr):\n",
        "        return list(arr[i+1])\n",
        "      else:\n",
        "        return list(sorted(l))\n",
        "\n"
      ],
      "execution_count": null,
      "outputs": []
    },
    {
      "cell_type": "code",
      "metadata": {
        "colab": {
          "base_uri": "https://localhost:8080/"
        },
        "id": "nkMjlpjC9q_2",
        "outputId": "efc0bf58-d238-4df3-8f18-90a558b3cfc2"
      },
      "source": [
        "l = [1,2,3]\n",
        "fun(l)"
      ],
      "execution_count": null,
      "outputs": [
        {
          "output_type": "stream",
          "text": [
            "[(1, 2, 3), (1, 3, 2), (2, 1, 3), (2, 3, 1), (3, 1, 2), (3, 2, 1)]\n"
          ],
          "name": "stdout"
        },
        {
          "output_type": "execute_result",
          "data": {
            "text/plain": [
              "[1, 3, 2]"
            ]
          },
          "metadata": {
            "tags": []
          },
          "execution_count": 30
        }
      ]
    }
  ]
}