{
 "cells": [
  {
   "cell_type": "markdown",
   "metadata": {},
   "source": [
    "#Given a string and a pattern, write a program to find all occurences of the pattern in the string\n",
    "#For example, string = \"THIS IS A TEST TEXT\", pattern = \"TEST\"\n",
    "#Output = Pattern found at index 10\n",
    "#Example 2, string =  \"AABAACAADAABAABA\", pattern =  \"AABA\"\n",
    "#Output: Pattern found at index 0, Pattern found at index 9, Pattern found at index 12"
   ]
  },
  {
   "cell_type": "code",
   "execution_count": 6,
   "metadata": {},
   "outputs": [
    {
     "data": {
      "text/plain": [
       "[10]"
      ]
     },
     "execution_count": 6,
     "metadata": {},
     "output_type": "execute_result"
    }
   ],
   "source": [
    "s = \"THIS IS A TEST TEXT\"\n",
    "p = \"TEST\"\n",
    "li = []\n",
    "for i in range(len(s)):\n",
    "    if s[i:i+len(p)] == p:\n",
    "        li.append(i)\n",
    "li"
   ]
  }
 ],
 "metadata": {
  "kernelspec": {
   "display_name": "Python 3",
   "language": "python",
   "name": "python3"
  },
  "language_info": {
   "codemirror_mode": {
    "name": "ipython",
    "version": 3
   },
   "file_extension": ".py",
   "mimetype": "text/x-python",
   "name": "python",
   "nbconvert_exporter": "python",
   "pygments_lexer": "ipython3",
   "version": "3.7.4"
  }
 },
 "nbformat": 4,
 "nbformat_minor": 2
}
