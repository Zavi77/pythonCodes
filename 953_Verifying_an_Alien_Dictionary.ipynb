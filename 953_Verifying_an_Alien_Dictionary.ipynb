{
  "nbformat": 4,
  "nbformat_minor": 0,
  "metadata": {
    "colab": {
      "name": "953. Verifying an Alien Dictionary",
      "provenance": []
    },
    "kernelspec": {
      "name": "python3",
      "display_name": "Python 3"
    },
    "language_info": {
      "name": "python"
    }
  },
  "cells": [
    {
      "cell_type": "code",
      "metadata": {
        "id": "9pA_Lrb-ZKlf"
      },
      "source": [
        "class Solution:\n",
        "    def isAlienSorted(self, words: List[str], order: str) -> bool:\n",
        "\n",
        "        \n",
        "        def order_checker(w1,w2):\n",
        "            if len(w2)< len(w1):\n",
        "                if w2[:] == w1[:len(w2)]:\n",
        "                    return False\n",
        "            for i in range(len(w1)):\n",
        "                if w1[i]!= w2[i]:\n",
        "                    if dc[w1[i]]>dc[w2[i]]:\n",
        "                        return False\n",
        "                    else:\n",
        "                        return True\n",
        "            return True\n",
        "        dc ={v:i for i,v in enumerate(order)}\n",
        "       \n",
        "        for j in range(1,len(words)):\n",
        "            if not order_checker(words[j-1],words[j]):\n",
        "                return False\n",
        "        return True                        "
      ],
      "execution_count": null,
      "outputs": []
    }
  ]
}