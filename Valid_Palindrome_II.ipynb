{
  "nbformat": 4,
  "nbformat_minor": 0,
  "metadata": {
    "colab": {
      "name": "Valid Palindrome II.ipynb",
      "provenance": []
    },
    "kernelspec": {
      "name": "python3",
      "display_name": "Python 3"
    },
    "language_info": {
      "name": "python"
    }
  },
  "cells": [
    {
      "cell_type": "code",
      "metadata": {
        "id": "ZsiKdsQVqsVd"
      },
      "source": [
        "def validPalindrome(s: str) -> bool:\n",
        "    def fun(s,left,right,deleted):\n",
        "          while(left<right):\n",
        "            if s[left]!=s[right]:\n",
        "              if deleted:\n",
        "                return False\n",
        "              else:\n",
        "                deleted = True\n",
        "                return fun(s,left+1,right,deleted) or fun(s,left,right-1,deleted)\n",
        "            else:\n",
        "              left+=1\n",
        "              right-=1\n",
        "          return True\n",
        "    return fun(s,0,len(s)-1,False)"
      ],
      "execution_count": 2,
      "outputs": []
    },
    {
      "cell_type": "code",
      "metadata": {
        "colab": {
          "base_uri": "https://localhost:8080/"
        },
        "id": "p-Np4KbPqt0X",
        "outputId": "442380d5-5388-4714-fd08-8c5656ad57f0"
      },
      "source": [
        "validPalindrome(s='caracd')"
      ],
      "execution_count": 4,
      "outputs": [
        {
          "output_type": "execute_result",
          "data": {
            "text/plain": [
              "True"
            ]
          },
          "metadata": {
            "tags": []
          },
          "execution_count": 4
        }
      ]
    },
    {
      "cell_type": "code",
      "metadata": {
        "colab": {
          "base_uri": "https://localhost:8080/"
        },
        "id": "Zs5hNAHfr1gD",
        "outputId": "b8dd1b1d-6c92-44bf-ebc6-af02d4c1b0b9"
      },
      "source": [
        "validPalindrome(s='caracde')"
      ],
      "execution_count": 5,
      "outputs": [
        {
          "output_type": "execute_result",
          "data": {
            "text/plain": [
              "False"
            ]
          },
          "metadata": {
            "tags": []
          },
          "execution_count": 5
        }
      ]
    }
  ]
}