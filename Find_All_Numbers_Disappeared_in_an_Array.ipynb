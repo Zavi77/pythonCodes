{
  "nbformat": 4,
  "nbformat_minor": 0,
  "metadata": {
    "colab": {
      "name": "Find All Numbers Disappeared in an Array",
      "provenance": []
    },
    "kernelspec": {
      "name": "python3",
      "display_name": "Python 3"
    },
    "language_info": {
      "name": "python"
    }
  },
  "cells": [
    {
      "cell_type": "code",
      "metadata": {
        "id": "RwJ_LIlgO1mD"
      },
      "source": [
        "class Solution:\n",
        "    def findDisappearedNumbers(self, nums: List[int]) -> List[int]:\n",
        "        n = len(nums)\n",
        "        for i in range(n):\n",
        "            if nums[abs(nums[i])-1] >0:\n",
        "                nums[abs(nums[i])-1] = -1*nums[abs(nums[i])-1]\n",
        "        print(nums)\n",
        "        count=0\n",
        "        for i in range(n):\n",
        "            if nums[i]>0:\n",
        "                nums[count] = i+1\n",
        "                count+=1\n",
        "        return nums[:count]\n",
        "                "
      ],
      "execution_count": null,
      "outputs": []
    }
  ]
}