{
  "nbformat": 4,
  "nbformat_minor": 0,
  "metadata": {
    "colab": {
      "name": "56. Merge Intervals",
      "provenance": []
    },
    "kernelspec": {
      "name": "python3",
      "display_name": "Python 3"
    },
    "language_info": {
      "name": "python"
    }
  },
  "cells": [
    {
      "cell_type": "code",
      "metadata": {
        "id": "8yfKIs4fm9kf"
      },
      "source": [
        "class Solution:\n",
        "    def merge(self, intervals: List[List[int]]) -> List[List[int]]:\n",
        "      intervals.sort(key = lambda x: x[0])\n",
        "      merged = []\n",
        "      for i in intervals:\n",
        "        if not merged or merged[-1][-1] < i[0]:\n",
        "          merged.append(i)\n",
        "        else:\n",
        "          merged[-1][-1] = max(merged[-1][-1],i[-1])\n",
        "      return merged"
      ],
      "execution_count": null,
      "outputs": []
    }
  ]
}