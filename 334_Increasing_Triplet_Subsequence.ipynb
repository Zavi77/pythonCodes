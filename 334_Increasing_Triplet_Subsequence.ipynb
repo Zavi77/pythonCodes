{
  "nbformat": 4,
  "nbformat_minor": 0,
  "metadata": {
    "colab": {
      "name": "334. Increasing Triplet Subsequence",
      "provenance": []
    },
    "kernelspec": {
      "name": "python3",
      "display_name": "Python 3"
    },
    "language_info": {
      "name": "python"
    }
  },
  "cells": [
    {
      "cell_type": "code",
      "metadata": {
        "id": "1obsypadpHOP"
      },
      "source": [
        "from itertools import combinations\n",
        "class Solution:\n",
        "    def increasingTriplet(self, nums: List[int]) -> bool:\n",
        "        first = float('inf')\n",
        "        second = float('inf')\n",
        "        for n in nums:\n",
        "            if n<first:\n",
        "                first = n\n",
        "            elif n<second and n>first:\n",
        "                second = n\n",
        "            elif n>first and n>second:\n",
        "                return True\n",
        "        return False\n",
        "            "
      ],
      "execution_count": null,
      "outputs": []
    }
  ]
}