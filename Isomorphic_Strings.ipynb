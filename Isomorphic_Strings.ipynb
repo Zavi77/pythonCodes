{
  "nbformat": 4,
  "nbformat_minor": 0,
  "metadata": {
    "colab": {
      "name": "Isomorphic Strings.ipynb",
      "provenance": []
    },
    "kernelspec": {
      "name": "python3",
      "display_name": "Python 3"
    },
    "language_info": {
      "name": "python"
    }
  },
  "cells": [
    {
      "cell_type": "code",
      "metadata": {
        "id": "e9s4p8ljZBrJ"
      },
      "source": [
        "class Solution:\n",
        "    def isIsomorphic(self, s: str, t: str) -> bool:\n",
        "        dc = {}\n",
        "        for i in range(len(s)):\n",
        "            if s[i] in dc:\n",
        "                if dc[s[i]] != t[i]:\n",
        "                    return False\n",
        "            else:\n",
        "                if t[i] in dc.values():\n",
        "                    return False\n",
        "                dc[s[i]] = t[i]\n",
        "            i+=1\n",
        "        return True"
      ],
      "execution_count": null,
      "outputs": []
    }
  ]
}