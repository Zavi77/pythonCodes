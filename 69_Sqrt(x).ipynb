{
  "nbformat": 4,
  "nbformat_minor": 0,
  "metadata": {
    "colab": {
      "name": "69. Sqrt(x)",
      "provenance": []
    },
    "kernelspec": {
      "name": "python3",
      "display_name": "Python 3"
    },
    "language_info": {
      "name": "python"
    }
  },
  "cells": [
    {
      "cell_type": "code",
      "metadata": {
        "id": "0nR1dze3CJXA"
      },
      "source": [
        "class Solution:\n",
        "    def mySqrt(self, x: int) -> int:\n",
        "        if x<2:\n",
        "            return x\n",
        "        l = 2\n",
        "        r = x//2\n",
        "        while(l<=r):\n",
        "            mid = (l+r)//2\n",
        "            nums = mid * mid\n",
        "            if  nums> x:\n",
        "                r = mid-1\n",
        "            elif nums < x:\n",
        "                l = mid+1\n",
        "            else:\n",
        "                return mid\n",
        "        return r\n",
        " \n",
        "            \n",
        "            "
      ],
      "execution_count": null,
      "outputs": []
    }
  ]
}