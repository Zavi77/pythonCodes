{
  "nbformat": 4,
  "nbformat_minor": 0,
  "metadata": {
    "colab": {
      "name": "5. Longest Palindromic Substring",
      "provenance": []
    },
    "kernelspec": {
      "name": "python3",
      "display_name": "Python 3"
    },
    "language_info": {
      "name": "python"
    }
  },
  "cells": [
    {
      "cell_type": "code",
      "metadata": {
        "id": "1obsypadpHOP"
      },
      "source": [
        "class Solution:\n",
        "    def longestPalindrome(self, s: str) -> str:\n",
        "        res = ''\n",
        "        for i in range(len(s)):\n",
        "            res = max(self.helper(s,i,i),self.helper(s,i,i+1),res,key=len)\n",
        "        return res\n",
        "    def helper(self,s,l,r):\n",
        "        while l>=0 and r<len(s) and s[l]==s[r]:\n",
        "            l-=1\n",
        "            r+=1\n",
        "        return s[l+1:r]"
      ],
      "execution_count": null,
      "outputs": []
    }
  ]
}