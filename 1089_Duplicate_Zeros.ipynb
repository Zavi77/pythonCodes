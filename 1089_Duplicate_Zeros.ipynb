{
  "nbformat": 4,
  "nbformat_minor": 0,
  "metadata": {
    "colab": {
      "name": "1089. Duplicate Zeros",
      "provenance": [],
      "collapsed_sections": []
    },
    "kernelspec": {
      "name": "python3",
      "display_name": "Python 3"
    },
    "language_info": {
      "name": "python"
    }
  },
  "cells": [
    {
      "cell_type": "code",
      "metadata": {
        "id": "5nftQPZW94UI"
      },
      "source": [
        "class Solution:\n",
        "    def duplicateZeros(self, arr: List[int]) -> None:\n",
        "        \"\"\"\n",
        "        Do not return anything, modify arr in-place instead.\n",
        "        \"\"\"\n",
        "        zeros = arr.count(0)\n",
        "        n = len(arr)\n",
        "        for i in range(n-1,-1,-1):\n",
        "          if i+zeros<n:\n",
        "            arr[i+zeros]= arr[i]\n",
        "          if arr[i]==0:\n",
        "            zeros-=1\n",
        "            if i+zeros<n:\n",
        "              arr[i+zeros]=0\n",
        "\n",
        "            \n",
        "\n",
        "\n",
        "                "
      ],
      "execution_count": null,
      "outputs": []
    }
  ]
}