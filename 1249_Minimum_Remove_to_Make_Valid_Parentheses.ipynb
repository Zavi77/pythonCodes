{
  "nbformat": 4,
  "nbformat_minor": 0,
  "metadata": {
    "colab": {
      "name": "1249. Minimum Remove to Make Valid Parentheses",
      "provenance": []
    },
    "kernelspec": {
      "name": "python3",
      "display_name": "Python 3"
    },
    "language_info": {
      "name": "python"
    }
  },
  "cells": [
    {
      "cell_type": "code",
      "metadata": {
        "id": "8yfKIs4fm9kf"
      },
      "source": [
        "class Solution:\n",
        "    def minRemoveToMakeValid(self, s: str) -> str:\n",
        "        stack = []\n",
        "        mis = []\n",
        "        for i,v in enumerate(s):\n",
        "            if v == '(':\n",
        "                stack.append(i)\n",
        "            elif v == ')':\n",
        "                if stack:\n",
        "                    stack.pop()\n",
        "                else:\n",
        "                    mis.append(i)\n",
        "        if stack:\n",
        "            mis = mis + stack\n",
        "        print(mis)\n",
        "        for i in sorted(mis,reverse= True):\n",
        "            s = s[:i] + s[i+1:]\n",
        "        return s\n",
        "                \n",
        "            "
      ],
      "execution_count": null,
      "outputs": []
    }
  ]
}