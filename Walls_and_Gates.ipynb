{
  "nbformat": 4,
  "nbformat_minor": 0,
  "metadata": {
    "colab": {
      "name": " Walls and Gates",
      "provenance": []
    },
    "kernelspec": {
      "name": "python3",
      "display_name": "Python 3"
    },
    "language_info": {
      "name": "python"
    }
  },
  "cells": [
    {
      "cell_type": "markdown",
      "metadata": {
        "id": "wH4FgqOOJPzY"
      },
      "source": [
        "DFS Approach"
      ]
    },
    {
      "cell_type": "code",
      "metadata": {
        "id": "ViPkusbVSq2H"
      },
      "source": [
        "def wallsAndGates(rooms):\n",
        "\n",
        "  def helper(r,c,room,dist):\n",
        "    if r < 0 or c < 0 or r >= len(room) or c >= len(room[0]) or room[r][c] < dist: # distance will be low if already visited\n",
        "      return \n",
        "    room[r][c] = dist\n",
        "    helper(r+1,c,room,dist+1) # check upper room\n",
        "    helper(r-1,c,room,dist+1) # check lower room\n",
        "    helper(r,c+1,room,dist+1) # check right side room\n",
        "    helper(r,c-1,room,dist+1) # check left side room\n",
        "\n",
        "  for row in range(len(rooms)):\n",
        "    for col in range(len(rooms[0])):\n",
        "      if rooms[row][col] == 0: # getting the gates\n",
        "        helper(row,col,rooms,0) # initially distance 0\n",
        "  return rooms"
      ],
      "execution_count": 4,
      "outputs": []
    },
    {
      "cell_type": "code",
      "metadata": {
        "colab": {
          "base_uri": "https://localhost:8080/"
        },
        "id": "15h0Briw6jAo",
        "outputId": "10b56dd6-ca97-40f5-8c50-598a7050e3d2"
      },
      "source": [
        "wallsAndGates([[2147483647,-1,0,2147483647],[2147483647,2147483647,2147483647,-1],[2147483647,-1,2147483647,-1],[0,-1,2147483647,2147483647]])"
      ],
      "execution_count": 5,
      "outputs": [
        {
          "output_type": "execute_result",
          "data": {
            "text/plain": [
              "[[3, -1, 0, 1], [2, 2, 1, -1], [1, -1, 2, -1], [0, -1, 3, 4]]"
            ]
          },
          "metadata": {
            "tags": []
          },
          "execution_count": 5
        }
      ]
    },
    {
      "cell_type": "markdown",
      "metadata": {
        "id": "4qgSp6reJUi4"
      },
      "source": [
        "BFS Approach"
      ]
    },
    {
      "cell_type": "code",
      "metadata": {
        "id": "T1JlK5y7JTYy"
      },
      "source": [
        "from collections import deque\n",
        "def wallsAndGates(rooms):\n",
        "    visit = set()\n",
        "    q = deque()\n",
        "    for row in range(len(rooms)):\n",
        "      for col in range(len(rooms[0])):\n",
        "        if rooms[row][col] == 0:\n",
        "          q.append([row,col])\n",
        "          visit.add((row,col))\n",
        "\n",
        "    dist = 0\n",
        "\n",
        "    def helper(r,c):\n",
        "      if (r < 0 or c < 0 or r == len(rooms) or c == len(rooms[0])  or (r,c) in visit  or rooms[r][c] == -1): # distance will be low if already visited\n",
        "        return \n",
        "      visit.add((r,c))\n",
        "      q.append([r,c])\n",
        "      \n",
        "\n",
        "\n",
        "    while(q):\n",
        "      for i in range(len(q)):\n",
        "        r,c = q.popleft()\n",
        "        rooms[r][c] = dist\n",
        "        helper(r+1,c)\n",
        "        helper(r-1,c)\n",
        "        helper(r,c+1)\n",
        "        helper(r,c-1)\n",
        "      dist+=1\n",
        "\n",
        "    return rooms"
      ],
      "execution_count": 25,
      "outputs": []
    },
    {
      "cell_type": "code",
      "metadata": {
        "colab": {
          "base_uri": "https://localhost:8080/"
        },
        "id": "NGUF8OGONbkU",
        "outputId": "d84a708b-e0f9-442f-f371-e4246434cb19"
      },
      "source": [
        "wallsAndGates([[2147483647,-1,0,2147483647],[2147483647,2147483647,2147483647,-1],[2147483647,-1,2147483647,-1],[0,-1,2147483647,2147483647]])"
      ],
      "execution_count": 26,
      "outputs": [
        {
          "output_type": "execute_result",
          "data": {
            "text/plain": [
              "[[3, -1, 0, 1], [2, 2, 1, -1], [1, -1, 2, -1], [0, -1, 3, 4]]"
            ]
          },
          "metadata": {
            "tags": []
          },
          "execution_count": 26
        }
      ]
    }
  ]
}