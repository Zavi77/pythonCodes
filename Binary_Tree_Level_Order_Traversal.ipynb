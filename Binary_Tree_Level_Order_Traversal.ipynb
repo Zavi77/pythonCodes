{
  "nbformat": 4,
  "nbformat_minor": 0,
  "metadata": {
    "colab": {
      "name": "Binary Tree Level Order Traversal",
      "provenance": [],
      "collapsed_sections": []
    },
    "kernelspec": {
      "name": "python3",
      "display_name": "Python 3"
    },
    "language_info": {
      "name": "python"
    }
  },
  "cells": [
    {
      "cell_type": "code",
      "metadata": {
        "id": "0PCutSdw8-q-"
      },
      "source": [
        "# Definition for a binary tree node.\n",
        "# class TreeNode:\n",
        "#     def __init__(self, val=0, left=None, right=None):\n",
        "#         self.val = val\n",
        "#         self.left = left\n",
        "#         self.right = right\n",
        "from collections import deque\n",
        "\n",
        "class Solution:\n",
        "    def levelOrder(self, root: TreeNode) -> List[List[int]]:\n",
        "        res = []\n",
        "        q = deque()\n",
        "        q.append(root)\n",
        "        \n",
        "        while(q):\n",
        "            qlen = len(q)\n",
        "            level=[]\n",
        "            for i in range(qlen):\n",
        "                node = q.popleft()\n",
        "                if node:\n",
        "                    level.append(node.val)\n",
        "                    q.append(node.left)\n",
        "                    q.append(node.right)\n",
        "            if level:\n",
        "                res.append(level)\n",
        "        return res"
      ],
      "execution_count": null,
      "outputs": []
    },
    {
      "cell_type": "code",
      "metadata": {
        "id": "5LxDyoWw9GTo"
      },
      "source": [
        "# Definition for a binary tree node.\n",
        "# class TreeNode:\n",
        "#     def __init__(self, val=0, left=None, right=None):\n",
        "#         self.val = val\n",
        "#         self.left = left\n",
        "#         self.right = right\n",
        "from collections import deque\n",
        "\n",
        "class Solution:\n",
        "    def levelOrder(self, root: TreeNode) -> List[List[int]]:\n",
        "        res = []\n",
        "        if not root:\n",
        "            return res\n",
        "\n",
        "        def helper(node,level):\n",
        "            if len(res) == level:\n",
        "                res.append([])\n",
        "\n",
        "            res[level].append(node.val)\n",
        "            if node.left:\n",
        "                helper(node.left,level+1)\n",
        "            if node.right:\n",
        "                helper(node.right,level+1)\n",
        "\n",
        "\n",
        "        helper(root,0) \n",
        "        return res   \n",
        "    "
      ],
      "execution_count": null,
      "outputs": []
    },
    {
      "cell_type": "code",
      "metadata": {
        "id": "GcvXHnjj8-uA"
      },
      "source": [
        ""
      ],
      "execution_count": null,
      "outputs": []
    }
  ]
}