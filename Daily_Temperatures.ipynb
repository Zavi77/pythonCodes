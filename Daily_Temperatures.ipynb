{
  "nbformat": 4,
  "nbformat_minor": 0,
  "metadata": {
    "colab": {
      "name": "Daily Temperatures",
      "provenance": []
    },
    "kernelspec": {
      "name": "python3",
      "display_name": "Python 3"
    },
    "language_info": {
      "name": "python"
    }
  },
  "cells": [
    {
      "cell_type": "code",
      "metadata": {
        "id": "3uMqeI8mQTIS"
      },
      "source": [
        "\n",
        "def dailyTemperatures(T):\n",
        "    n, right_max = len(T), float('-inf')\n",
        "    res = [0] * n\n",
        "    for i in range(n-1, -1, -1):\n",
        "        t = T[i]\n",
        "        if right_max <= t:\n",
        "            right_max = t\n",
        "        else:\n",
        "            days = 1\n",
        "            while T[i+days] <= t:\n",
        "                days += res[i+days]\n",
        "            res[i] = days\n",
        "    return res\n"
      ],
      "execution_count": 30,
      "outputs": []
    },
    {
      "cell_type": "code",
      "metadata": {
        "colab": {
          "base_uri": "https://localhost:8080/"
        },
        "id": "XMB5swXJQTKw",
        "outputId": "c78a7d13-fd14-4195-db8d-dfc3af20c2cc"
      },
      "source": [
        "temperatures = [73,74,75,71,69,72,76,73]\n",
        "dailyTemperatures(temperatures)"
      ],
      "execution_count": 31,
      "outputs": [
        {
          "output_type": "execute_result",
          "data": {
            "text/plain": [
              "[1, 1, 4, 2, 1, 1, 0, 0]"
            ]
          },
          "metadata": {
            "tags": []
          },
          "execution_count": 31
        }
      ]
    },
    {
      "cell_type": "code",
      "metadata": {
        "id": "AdB0uJjQQTNF"
      },
      "source": [
        "def dailyTemperatures(T):\n",
        "    ans = [0]*len(T) \n",
        "    stack = []\n",
        "    for i,v in enumerate(T):\n",
        "      while(stack and stack[-1][1] < v):\n",
        "        index, val = stack.pop()\n",
        "        ans[index] = i - index\n",
        "      stack.append([i,v])\n",
        "    return ans"
      ],
      "execution_count": 15,
      "outputs": []
    },
    {
      "cell_type": "code",
      "metadata": {
        "colab": {
          "base_uri": "https://localhost:8080/"
        },
        "id": "XdG1DzrewePH",
        "outputId": "89708212-09f2-4b4d-abeb-e352770acb90"
      },
      "source": [
        "temperatures = [73,74,75,71,69,72,76,73]\n",
        "dailyTemperatures(temperatures)"
      ],
      "execution_count": 16,
      "outputs": [
        {
          "output_type": "execute_result",
          "data": {
            "text/plain": [
              "[1, 1, 4, 2, 1, 1, 0, 0]"
            ]
          },
          "metadata": {
            "tags": []
          },
          "execution_count": 16
        }
      ]
    }
  ]
}