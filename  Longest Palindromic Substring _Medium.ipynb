{
 "cells": [
  {
   "cell_type": "markdown",
   "id": "2b4e81fd-5182-4707-a25f-f17a527939ae",
   "metadata": {},
   "source": [
    "Given a string s, return the longest palindromic substring in s.\n",
    "\n",
    " \n",
    "\n",
    "Example 1:\n",
    "\n",
    "Input: s = \"babad\"\n",
    "Output: \"bab\"\n",
    "Note: \"aba\" is also a valid answer.\n",
    "Example 2:\n",
    "\n",
    "Input: s = \"cbbd\"\n",
    "Output: \"bb\"\n",
    "Example 3:\n",
    "\n",
    "Input: s = \"a\"\n",
    "Output: \"a\""
   ]
  },
  {
   "cell_type": "code",
   "execution_count": 34,
   "id": "65da2e18-dd81-4d24-b52f-a6a984142c03",
   "metadata": {},
   "outputs": [],
   "source": [
    "def fun(st):\n",
    "    maxst = ''\n",
    "    l,r=0,0\n",
    "    \n",
    "    for i in range(len(st)):\n",
    "        l,r = i,i\n",
    "        while(l>=0 and r <len(st) and st[l]==st[r]):\n",
    "            if (r-l+1)>len(maxst):\n",
    "                maxst = st[l:r+1]\n",
    "            l-=1\n",
    "            r+=1\n",
    "          \n",
    "        l,r = i,i+1\n",
    "        while(l>=0 and r <len(st) and st[l]==st[r]):\n",
    "            if (r-l+1)>len(maxst):\n",
    "                maxst = st[l:r+1]\n",
    "            l-=1\n",
    "            r+=1\n",
    "        \n",
    "\n",
    "    return maxst"
   ]
  },
  {
   "cell_type": "code",
   "execution_count": 30,
   "id": "1e575063-1414-4f1f-a322-29f20fd975e8",
   "metadata": {},
   "outputs": [
    {
     "data": {
      "text/plain": [
       "'mattam'"
      ]
     },
     "execution_count": 30,
     "metadata": {},
     "output_type": "execute_result"
    }
   ],
   "source": [
    "fun('ramattam')"
   ]
  },
  {
   "cell_type": "code",
   "execution_count": 31,
   "id": "43724c20-0b2a-47ec-89df-0e32839b4cf8",
   "metadata": {},
   "outputs": [
    {
     "data": {
      "text/plain": [
       "'matam'"
      ]
     },
     "execution_count": 31,
     "metadata": {},
     "output_type": "execute_result"
    }
   ],
   "source": [
    "fun('ramatam')"
   ]
  },
  {
   "cell_type": "code",
   "execution_count": 35,
   "id": "ca725c5c-a5e3-47d7-a80b-19f7a61a2b4d",
   "metadata": {},
   "outputs": [
    {
     "data": {
      "text/plain": [
       "'bb'"
      ]
     },
     "execution_count": 35,
     "metadata": {},
     "output_type": "execute_result"
    }
   ],
   "source": [
    "fun('cbbd')"
   ]
  },
  {
   "cell_type": "code",
   "execution_count": null,
   "id": "6807900f-bac5-4685-830c-e9cd51935309",
   "metadata": {},
   "outputs": [],
   "source": []
  }
 ],
 "metadata": {
  "kernelspec": {
   "display_name": "Python 3",
   "language": "python",
   "name": "python3"
  },
  "language_info": {
   "codemirror_mode": {
    "name": "ipython",
    "version": 3
   },
   "file_extension": ".py",
   "mimetype": "text/x-python",
   "name": "python",
   "nbconvert_exporter": "python",
   "pygments_lexer": "ipython3",
   "version": "3.7.4"
  }
 },
 "nbformat": 4,
 "nbformat_minor": 5
}
