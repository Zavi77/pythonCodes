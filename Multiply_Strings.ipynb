{
  "nbformat": 4,
  "nbformat_minor": 0,
  "metadata": {
    "colab": {
      "name": "Multiply Strings",
      "provenance": []
    },
    "kernelspec": {
      "name": "python3",
      "display_name": "Python 3"
    },
    "language_info": {
      "name": "python"
    }
  },
  "cells": [
    {
      "cell_type": "code",
      "metadata": {
        "id": "Hb6jeSmEhia1"
      },
      "source": [
        "\n",
        "def fun(nums2: str, nums1: str):\n",
        "  res = [0]*(len(nums1)+len(nums2))\n",
        "  k = 0\n",
        "  pf = 0\n",
        "  i= len(nums1)-1\n",
        "  j= len(nums2)-1\n",
        "  while i >=  0:\n",
        "    carry = 0\n",
        "    while j >= 0:\n",
        "      prod = (ord(nums1[i])-ord('0'))*(ord(nums2[j])-ord('0')) + carry\n",
        "      carry = (res[k] + prod)//10 \n",
        "      res[k] = (res[k] + prod)%10\n",
        "      k+=1\n",
        "      j-=1\n",
        "    j=len(nums2)-1\n",
        "    res[k] = res[k] + carry\n",
        "    i-=1\n",
        "    pf+=1\n",
        "    k = pf\n",
        "    \n",
        "  res = res[::-1]\n",
        "  res = ''.join(map(str, res))\n",
        "  \n",
        "  return '0' if not res.lstrip('0') else res.lstrip('0')\n",
        "\n",
        "\n"
      ],
      "execution_count": 159,
      "outputs": []
    },
    {
      "cell_type": "code",
      "metadata": {
        "colab": {
          "base_uri": "https://localhost:8080/"
        },
        "id": "1x_6hzsDjTfj",
        "outputId": "9aad7df2-2d9c-4e37-d932-0a4d266b3fd0"
      },
      "source": [
        "s =\"123\"\n",
        "t =\"456\"\n",
        "print(fun(s,t))"
      ],
      "execution_count": 160,
      "outputs": [
        {
          "output_type": "stream",
          "text": [
            "56088\n"
          ],
          "name": "stdout"
        }
      ]
    }
  ]
}