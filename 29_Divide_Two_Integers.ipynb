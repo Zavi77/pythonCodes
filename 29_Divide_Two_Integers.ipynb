{
  "nbformat": 4,
  "nbformat_minor": 0,
  "metadata": {
    "colab": {
      "name": "29. Divide Two Integers",
      "provenance": []
    },
    "kernelspec": {
      "name": "python3",
      "display_name": "Python 3"
    },
    "language_info": {
      "name": "python"
    }
  },
  "cells": [
    {
      "cell_type": "code",
      "metadata": {
        "id": "1obsypadpHOP"
      },
      "source": [
        "class Solution:\n",
        "    def divide(self, dividend: int, divisor: int) -> int:\n",
        "        \n",
        "        if dividend == -2147483648 and divisor == -1:\n",
        "            return 2147483647\n",
        "    \n",
        "        negatives = 2\n",
        "        if dividend>0:\n",
        "            negatives -= 1\n",
        "            dividend = -dividend\n",
        "\n",
        "        if divisor>0:\n",
        "            negatives -= 1\n",
        "            divisor = -divisor\n",
        "\n",
        "        quotient = 0\n",
        "        while(divisor >= dividend):\n",
        "            powerofTwo = -1\n",
        "            value = divisor\n",
        "            \n",
        "            while value + value >= dividend:\n",
        "                value+=value\n",
        "                powerofTwo += powerofTwo\n",
        "            \n",
        "            \n",
        "            quotient += powerofTwo \n",
        "            dividend -= value\n",
        "\n",
        "        return quotient if negatives==1 else -quotient"
      ],
      "execution_count": null,
      "outputs": []
    }
  ]
}