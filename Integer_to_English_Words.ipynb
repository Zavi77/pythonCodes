{
  "nbformat": 4,
  "nbformat_minor": 0,
  "metadata": {
    "colab": {
      "name": " Integer to English Words",
      "provenance": [],
      "collapsed_sections": []
    },
    "kernelspec": {
      "name": "python3",
      "display_name": "Python 3"
    },
    "language_info": {
      "name": "python"
    }
  },
  "cells": [
    {
      "cell_type": "code",
      "metadata": {
        "id": "v1r7bthKs40v"
      },
      "source": [
        "oneDC = {\n",
        "          1: 'One',\n",
        "          2: 'Two',\n",
        "          3: 'Three',\n",
        "          4: 'Four',\n",
        "          5: 'Five',\n",
        "          6: 'Six',\n",
        "          7: 'Seven',\n",
        "          8: 'Eight',\n",
        "          9: 'Nine'\n",
        "            }\n",
        "twoDC = {\n",
        "          10: 'Ten',\n",
        "          11: 'Eleven',\n",
        "          12: 'Twelve',\n",
        "          13: 'Thirteen',\n",
        "          14: 'Fourteen',\n",
        "          15: 'Fifteen',\n",
        "          16: 'Sixteen',\n",
        "          17: 'Seventeen',\n",
        "          18: 'Eighteen',\n",
        "          19: 'Nineteen'\n",
        "            }\n",
        "\n",
        "threeDC = {\n",
        "          2: 'Twenty',\n",
        "          3: 'Thirty',\n",
        "          4: 'Forty',\n",
        "          5: 'Fifty',\n",
        "          6: 'Sixty',\n",
        "          7: 'Seventy',\n",
        "          8: 'Eighty',\n",
        "          9: 'Ninety'\n",
        "            }"
      ],
      "execution_count": 66,
      "outputs": []
    },
    {
      "cell_type": "code",
      "metadata": {
        "id": "MjN2ycxDs5IU"
      },
      "source": [
        "num = 1026\n",
        "num = str(num)\n",
        "num = num[::-1]"
      ],
      "execution_count": 127,
      "outputs": []
    },
    {
      "cell_type": "code",
      "metadata": {
        "colab": {
          "base_uri": "https://localhost:8080/"
        },
        "id": "vkMiAyy2s5Kw",
        "outputId": "899ff634-d2e1-45d7-9c6f-6a7fb993c61b"
      },
      "source": [
        "res = []\n",
        "for i,v in enumerate(num):\n",
        "    if i == 0:\n",
        "      if num[i+1] == '0':\n",
        "        if v != '0':\n",
        "          res.append(oneDC[int(v)])\n",
        "      elif num[i+1] == '1':\n",
        "        if v=='0':\n",
        "          res.append('ten')\n",
        "        else:\n",
        "          res.append(twoDC[int(num[i+1])])\n",
        "      else:\n",
        "        if v!='0':\n",
        "          res.append(oneDC[int(v)])\n",
        "          res.append(threeDC[int(num[i+1])])\n",
        "        else:\n",
        "          res.append(threeDC[int(num[i+1])])\n",
        "\n",
        "    if i==2:\n",
        "      if v!='0':\n",
        "        res.append(oneDC[int(v)] + ' Hundred')\n",
        "    \n",
        "    if i==3:\n",
        "      if v!='0':\n",
        "        res.append(oneDC[int(v)] + ' Thousand')\n",
        "print(res[::-1])\n",
        "\n"
      ],
      "execution_count": 128,
      "outputs": [
        {
          "output_type": "stream",
          "text": [
            "['One Thousand', 'Twenty', 'Six']\n"
          ],
          "name": "stdout"
        }
      ]
    }
  ]
}