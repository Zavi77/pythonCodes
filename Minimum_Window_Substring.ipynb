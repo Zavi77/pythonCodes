{
  "nbformat": 4,
  "nbformat_minor": 0,
  "metadata": {
    "colab": {
      "name": "Minimum Window Substring",
      "provenance": []
    },
    "kernelspec": {
      "name": "python3",
      "display_name": "Python 3"
    },
    "language_info": {
      "name": "python"
    }
  },
  "cells": [
    {
      "cell_type": "code",
      "metadata": {
        "id": "Hb6jeSmEhia1"
      },
      "source": [
        "from collections import Counter\n",
        "def minWindow(s: str, t: str) -> str:\n",
        "  if not t or not s:\n",
        "    return \"\"\n",
        "  dic_t = Counter(t)\n",
        "  required = len(dic_t)\n",
        "  formed = 0\n",
        "  l,r = 0,0\n",
        "  res = float('inf'), 0, 0\n",
        "  dic_s = {}\n",
        "  while(r<len(s)):\n",
        "    char = s[r]\n",
        "    dic_s[char] = 1 + dic_s.get(char,0)\n",
        "    if char in dic_t and dic_s[char] == dic_t[char]:\n",
        "      formed +=1\n",
        "    while l<=r and formed == required:\n",
        "      char = s[l]\n",
        "      if res[0] > r-l+1:\n",
        "        res = r-l+1, l, r\n",
        "      dic_s[char]-=1\n",
        "      if char in dic_t and dic_s[char] < dic_t[char]:\n",
        "        formed-=1\n",
        "      l+=1\n",
        "    r+=1\n",
        "  return '' if res[0]== float('inf') else s[res[1]:res[2]+1]\n"
      ],
      "execution_count": 3,
      "outputs": []
    },
    {
      "cell_type": "code",
      "metadata": {
        "colab": {
          "base_uri": "https://localhost:8080/",
          "height": 35
        },
        "id": "fwV4VC2TPnNW",
        "outputId": "8036bc49-dc55-48a6-fdfb-b7a5101841e0"
      },
      "source": [
        "s = 'aa'\n",
        "t = 'aa'\n",
        "minWindow(s,t)"
      ],
      "execution_count": 4,
      "outputs": [
        {
          "output_type": "execute_result",
          "data": {
            "application/vnd.google.colaboratory.intrinsic+json": {
              "type": "string"
            },
            "text/plain": [
              "'aa'"
            ]
          },
          "metadata": {
            "tags": []
          },
          "execution_count": 4
        }
      ]
    }
  ]
}