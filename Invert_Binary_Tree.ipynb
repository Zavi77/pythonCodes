{
  "nbformat": 4,
  "nbformat_minor": 0,
  "metadata": {
    "colab": {
      "name": "Invert Binary Tree",
      "provenance": []
    },
    "kernelspec": {
      "name": "python3",
      "display_name": "Python 3"
    },
    "language_info": {
      "name": "python"
    }
  },
  "cells": [
    {
      "cell_type": "code",
      "metadata": {
        "colab": {
          "base_uri": "https://localhost:8080/"
        },
        "id": "e9s4p8ljZBrJ",
        "outputId": "88c3f4f0-8abb-46aa-b260-adeacff161ed"
      },
      "source": [
        "\n",
        "class TreeNode:\n",
        "    def __init__(self, val=0, left=None, right=None):\n",
        "        self.val = val\n",
        "        self.left = left\n",
        "        self.right = right\n",
        "\n",
        "from collections import deque\n",
        "class Solution:\n",
        "    def invertTree(self, root: TreeNode) -> TreeNode:\n",
        "        q = deque([(root)])\n",
        "        \n",
        "        while q:\n",
        "            node = q.popleft()\n",
        "            if node:\n",
        "                node.left, node.right = node.right, node.left\n",
        "                q.append(node.left)\n",
        "                q.append(node.right)\n",
        "                \n",
        "        return root\n",
        "        "
      ],
      "execution_count": 7,
      "outputs": [
        {
          "output_type": "execute_result",
          "data": {
            "text/plain": [
              "{('a', 'g'), ('a', 'm'), ('i', 'k'), ('v', 'p')}"
            ]
          },
          "metadata": {
            "tags": []
          },
          "execution_count": 7
        }
      ]
    }
  ]
}