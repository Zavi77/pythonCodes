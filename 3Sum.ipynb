{
  "nbformat": 4,
  "nbformat_minor": 0,
  "metadata": {
    "colab": {
      "name": "3Sum",
      "provenance": []
    },
    "kernelspec": {
      "name": "python3",
      "display_name": "Python 3"
    },
    "language_info": {
      "name": "python"
    }
  },
  "cells": [
    {
      "cell_type": "code",
      "metadata": {
        "id": "a2uSZF5vVfP7"
      },
      "source": [
        "\n",
        "def threeSum(nums):\n",
        "    res =[]\n",
        "    nums.sort()\n",
        "    for i,v in enumerate(nums):\n",
        "        if i>0 and v==nums[i-1]:\n",
        "            continue\n",
        "        l=i+1\n",
        "        r=len(nums)-1\n",
        "        while(l<r):\n",
        "            s=nums[i]+nums[l]+nums[r]\n",
        "            if s<0:\n",
        "                l+=1\n",
        "            elif s>0:\n",
        "                r-=1\n",
        "            else:\n",
        "                res.append([nums[i],nums[l],nums[r]])\n",
        "                while l<r and nums[l]==nums[l+1]:\n",
        "                    l+=1\n",
        "                while l<r and nums[r]==nums[r-1]:\n",
        "                    r-=1\n",
        "                l+=1\n",
        "                r-=1\n",
        "    return res\n",
        "    "
      ],
      "execution_count": 6,
      "outputs": []
    },
    {
      "cell_type": "code",
      "metadata": {
        "colab": {
          "base_uri": "https://localhost:8080/"
        },
        "id": "sOKJSALwVfji",
        "outputId": "13fc3101-87b4-444d-bda9-81387c734d75"
      },
      "source": [
        "nums = [-1,0,1,2,-1,-4]\n",
        "threeSum(nums)\n"
      ],
      "execution_count": 7,
      "outputs": [
        {
          "output_type": "execute_result",
          "data": {
            "text/plain": [
              "[[-1, -1, 2], [-1, 0, 1]]"
            ]
          },
          "metadata": {
            "tags": []
          },
          "execution_count": 7
        }
      ]
    }
  ]
}