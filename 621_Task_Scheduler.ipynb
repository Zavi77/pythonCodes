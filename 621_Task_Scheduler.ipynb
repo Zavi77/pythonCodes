{
  "nbformat": 4,
  "nbformat_minor": 0,
  "metadata": {
    "colab": {
      "name": "621. Task Scheduler",
      "provenance": []
    },
    "kernelspec": {
      "name": "python3",
      "display_name": "Python 3"
    },
    "language_info": {
      "name": "python"
    }
  },
  "cells": [
    {
      "cell_type": "code",
      "metadata": {
        "id": "1obsypadpHOP"
      },
      "source": [
        "\n",
        "class Solution:\n",
        "    def leastInterval(self, tasks: List[str], n: int) -> int:\n",
        "        dc={}\n",
        "        for i in tasks:\n",
        "            dc[i] = dc.get(i,0) +1\n",
        "        maxv = max(dc.values())\n",
        "        freq = list(dc.values()).count(maxv)\n",
        "        return max(len(tasks),(maxv-1)*(n+1)+freq)\n",
        "        "
      ],
      "execution_count": null,
      "outputs": []
    }
  ]
}