{
  "nbformat": 4,
  "nbformat_minor": 0,
  "metadata": {
    "colab": {
      "name": "415. Add Strings",
      "provenance": []
    },
    "kernelspec": {
      "name": "python3",
      "display_name": "Python 3"
    },
    "language_info": {
      "name": "python"
    }
  },
  "cells": [
    {
      "cell_type": "code",
      "metadata": {
        "id": "wYYPrVPVNclA"
      },
      "source": [
        "class Solution:\n",
        "    def addStrings(self, nums1: str, nums2: str) -> str:\n",
        "        if len(nums1) > len(nums2):\n",
        "            nums2 = ['0']*(len(nums1)-len(nums2)) + list(nums2)\n",
        "            nums1 = list(nums1)\n",
        "        else:\n",
        "            nums1 = ['0']*(len(nums2)-len(nums1)) + list(nums1)\n",
        "            nums2 = list(nums2)\n",
        "\n",
        "        res = []\n",
        "        carry =0\n",
        "        for i in range(len(nums1)-1,-1,-1):\n",
        "            total = (ord(nums1[i]) - ord('0') + ord(nums2[i]) - ord('0')) + carry\n",
        "            digi = total%10\n",
        "            carry = total//10\n",
        "            res.append(digi)\n",
        "        if carry:\n",
        "            res.append(carry)\n",
        "        return ''.join(list(map(str,res[::-1])))\n",
        "            \n",
        "            \n",
        "            "
      ],
      "execution_count": null,
      "outputs": []
    }
  ]
}