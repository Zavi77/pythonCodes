{
  "nbformat": 4,
  "nbformat_minor": 0,
  "metadata": {
    "colab": {
      "name": "Matching Pairs",
      "provenance": []
    },
    "kernelspec": {
      "name": "python3",
      "display_name": "Python 3"
    },
    "language_info": {
      "name": "python"
    }
  },
  "cells": [
    {
      "cell_type": "code",
      "metadata": {
        "id": "UFJc10_d8MVM"
      },
      "source": [
        "import math\n",
        "# Add any extra import statements you may need here\n",
        "\n",
        "\n",
        "# Add any helper functions you may need here\n",
        "\n",
        "\n",
        "def matching_pairs(s, t):\n",
        "  # Write your code here\n",
        "  dc = {}\n",
        "  N = len(s)\n",
        "  p,count =0,0\n",
        "  swap=0\n",
        "  while(p<N):\n",
        "    \n",
        "    if s[p] ==  t[p]:\n",
        "      count+=1\n",
        "    else:\n",
        "      if (swap>=2):\n",
        "        continue\n",
        "      \n",
        "      if t[p]  in dc:\n",
        "        swap+=1\n",
        "        count+=1\n",
        "        if dc[t[p]] == s[p]:\n",
        "          count+=1\n",
        "          swap+=1\n",
        "      else:\n",
        "        dc[s[p]]=t[p]\n",
        "    p+=1\n",
        "  if(swap<2):\n",
        "    count = count - (2-swap)\n",
        "  return count\n",
        "      \n",
        "  \n",
        "\n",
        "\n",
        "\n"
      ],
      "execution_count": null,
      "outputs": []
    },
    {
      "cell_type": "code",
      "metadata": {
        "id": "bWZDsRy5cpFE"
      },
      "source": [
        "\n",
        "\n",
        "# These are the tests we use to determine if the solution is correct.\n",
        "# You can add your own at the bottom, but they are otherwise not editable!\n",
        "\n",
        "def printInteger(n):\n",
        "  print('[', n, ']', sep='', end='')\n",
        "\n",
        "test_case_number = 1\n",
        "\n",
        "def check(expected, output):\n",
        "  global test_case_number\n",
        "  result = False\n",
        "  if expected == output:\n",
        "    result = True\n",
        "  rightTick = '\\u2713'\n",
        "  wrongTick = '\\u2717'\n",
        "  if result:\n",
        "    print(rightTick, 'Test #', test_case_number, sep='')\n",
        "  else:\n",
        "    print(wrongTick, 'Test #', test_case_number, ': Expected ', sep='', end='')\n",
        "    printInteger(expected)\n",
        "    print(' Your output: ', end='')\n",
        "    printInteger(output)\n",
        "    print()\n",
        "  test_case_number += 1\n",
        "\n",
        "if __name__ == \"__main__\":\n",
        "  s_1, t_1 = \"abcde\", \"adcbe\"\n",
        "  expected_1 = 5\n",
        "  output_1 = matching_pairs(s_1, t_1)\n",
        "  check(expected_1, output_1)\n",
        "\n",
        "  s_2, t_2 = \"abcd\", \"abcd\"\n",
        "  expected_2 = 2\n",
        "  output_2 = matching_pairs(s_2, t_2)\n",
        "  check(expected_2, output_2)\n",
        "\n",
        "  # Add your own test cases here\n",
        "  "
      ],
      "execution_count": null,
      "outputs": []
    },
    {
      "cell_type": "code",
      "metadata": {
        "id": "XQPRjY-WZES7"
      },
      "source": [
        ""
      ],
      "execution_count": null,
      "outputs": []
    },
    {
      "cell_type": "code",
      "metadata": {
        "id": "oU5-ca-AacuG"
      },
      "source": [
        ""
      ],
      "execution_count": null,
      "outputs": []
    },
    {
      "cell_type": "code",
      "metadata": {
        "id": "6wtvRyREZEYI"
      },
      "source": [
        ""
      ],
      "execution_count": null,
      "outputs": []
    },
    {
      "cell_type": "code",
      "metadata": {
        "id": "WJo77VHTZEay"
      },
      "source": [
        ""
      ],
      "execution_count": null,
      "outputs": []
    }
  ]
}