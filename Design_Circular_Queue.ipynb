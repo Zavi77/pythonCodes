{
  "nbformat": 4,
  "nbformat_minor": 0,
  "metadata": {
    "colab": {
      "name": "Design Circular Queue",
      "provenance": []
    },
    "kernelspec": {
      "name": "python3",
      "display_name": "Python 3"
    },
    "language_info": {
      "name": "python"
    }
  },
  "cells": [
    {
      "cell_type": "code",
      "metadata": {
        "id": "rRkH7xoPSqwf"
      },
      "source": [
        "class MyCircularQueue:\n",
        "\n",
        "    def __init__(self, k: int):\n",
        "        self.size = k\n",
        "        self.head = 0\n",
        "        self.count = 0\n",
        "        self.queue = [0]*k\n",
        "\n",
        "    def enQueue(self, value: int) -> bool:\n",
        "\n",
        "        if self.count == self.size:\n",
        "            return False\n",
        "        \n",
        "        self.queue[(self.head + self.count) % self.size] = value\n",
        "        self.count+=1\n",
        "        return True\n",
        "        \n",
        "        \n",
        "    def deQueue(self) -> bool:\n",
        "        if self.count == 0:\n",
        "            return False\n",
        "        self.head = (self.head +1) % self.size\n",
        "        self.count-=1\n",
        "        return True\n",
        "\n",
        "        \n",
        "\n",
        "    def Front(self) -> int:\n",
        "        if self.count == 0:\n",
        "            return -1\n",
        "        \n",
        "        return self.queue[self.head]\n",
        "\n",
        "    def Rear(self) -> int:\n",
        "        if self.count == 0:\n",
        "            return -1\n",
        "        return self.queue[(self.head + self.count -1) % self.size]\n",
        "\n",
        "    def isEmpty(self) -> bool:\n",
        "        return self.count == 0\n",
        "\n",
        "\n",
        "    def isFull(self) -> bool:\n",
        "        return self.count == self.size       \n",
        "\n",
        "\n",
        "# Your MyCircularQueue object will be instantiated and called as such:\n",
        "# obj = MyCircularQueue(k)\n",
        "# param_1 = obj.enQueue(value)\n",
        "# param_2 = obj.deQueue()\n",
        "# param_3 = obj.Front()\n",
        "# param_4 = obj.Rear()\n",
        "# param_5 = obj.isEmpty()\n",
        "# param_6 = obj.isFull()"
      ],
      "execution_count": null,
      "outputs": []
    },
    {
      "cell_type": "code",
      "metadata": {
        "id": "9W_7psZuSqzP"
      },
      "source": [
        ""
      ],
      "execution_count": null,
      "outputs": []
    },
    {
      "cell_type": "code",
      "metadata": {
        "id": "ViPkusbVSq2H"
      },
      "source": [
        ""
      ],
      "execution_count": null,
      "outputs": []
    }
  ]
}