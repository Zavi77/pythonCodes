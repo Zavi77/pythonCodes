{
 "cells": [
  {
   "cell_type": "code",
   "execution_count": 1,
   "metadata": {},
   "outputs": [],
   "source": [
    "class hash_table:\n",
    "    def __init__(self,size):\n",
    "        self.size = size\n",
    "        self.data = [None]*self.size\n",
    "        \n",
    "    def __str__(self):\n",
    "        return str(self.__dict__)\n",
    "    \n",
    "    def _hash(self,key):\n",
    "        hash = 0\n",
    "        for i in range(len(key)):\n",
    "            hash = (hash + ord(key[i])*i) % self.size\n",
    "        return hash\n",
    "    \n",
    "    def set(self,key,value):\n",
    "        hash = self._hash(key)\n",
    "        if not self.data[hash]:\n",
    "            self.data[hash] = [[key,value]]\n",
    "        else:\n",
    "            self.data[hash].append([key,value])\n",
    "        print(self.data)\n",
    "    \n",
    "    def get(self,key):\n",
    "        hash = self._hash(key)\n",
    "        if self.data[hash]:\n",
    "            for i in range(len(self.data[hash])):\n",
    "                if self.data[hash][i][0] == key:\n",
    "                    return self.data[hash][i][1]\n",
    "        return None\n",
    "    \n",
    "    \n",
    "    def keys(self):\n",
    "        keys_array = []\n",
    "        for i in range(self.size):\n",
    "            if self.data[i]:\n",
    "                for j in range(len(self.data[i])):\n",
    "                    keys_array.append(self.data[i][j][0])\n",
    "        return keys_array\n",
    "    \n",
    "    def values(self):\n",
    "        values_array = []\n",
    "        for i in range(self.size):\n",
    "            if self.data[i]:\n",
    "                for j in range(len(self.data[i])):\n",
    "                    values_array.append(self.data[i][j][1])\n",
    "        return values_array"
   ]
  },
  {
   "cell_type": "code",
   "execution_count": 2,
   "metadata": {},
   "outputs": [
    {
     "name": "stdout",
     "output_type": "stream",
     "text": [
      "{'size': 3, 'data': [None, None, None]}\n"
     ]
    }
   ],
   "source": [
    "new_hash = hash_table(3)\n",
    "print(new_hash)"
   ]
  },
  {
   "cell_type": "code",
   "execution_count": 3,
   "metadata": {},
   "outputs": [
    {
     "name": "stdout",
     "output_type": "stream",
     "text": [
      "[[['one', 1]], None, None]\n",
      "[[['one', 1]], None, [['two', 2]]]\n",
      "[[['one', 1]], [['three', 3]], [['two', 2]]]\n",
      "[[['one', 1], ['four', 4]], [['three', 3]], [['two', 2]]]\n"
     ]
    }
   ],
   "source": [
    "new_hash.set('one',1)\n",
    "new_hash.set('two',2)\n",
    "new_hash.set('three',3)\n",
    "new_hash.set('four',4)"
   ]
  },
  {
   "cell_type": "code",
   "execution_count": 4,
   "metadata": {},
   "outputs": [
    {
     "name": "stdout",
     "output_type": "stream",
     "text": [
      "1\n"
     ]
    }
   ],
   "source": [
    "print(new_hash.get('one'))"
   ]
  },
  {
   "cell_type": "code",
   "execution_count": 5,
   "metadata": {},
   "outputs": [
    {
     "name": "stdout",
     "output_type": "stream",
     "text": [
      "['one', 'four', 'three', 'two']\n"
     ]
    }
   ],
   "source": [
    "print(new_hash.keys())"
   ]
  },
  {
   "cell_type": "code",
   "execution_count": 6,
   "metadata": {},
   "outputs": [
    {
     "name": "stdout",
     "output_type": "stream",
     "text": [
      "[1, 4, 3, 2]\n"
     ]
    }
   ],
   "source": [
    "print(new_hash.values())"
   ]
  }
 ],
 "metadata": {
  "kernelspec": {
   "display_name": "Python 3",
   "language": "python",
   "name": "python3"
  },
  "language_info": {
   "codemirror_mode": {
    "name": "ipython",
    "version": 3
   },
   "file_extension": ".py",
   "mimetype": "text/x-python",
   "name": "python",
   "nbconvert_exporter": "python",
   "pygments_lexer": "ipython3",
   "version": "3.7.4"
  }
 },
 "nbformat": 4,
 "nbformat_minor": 2
}
