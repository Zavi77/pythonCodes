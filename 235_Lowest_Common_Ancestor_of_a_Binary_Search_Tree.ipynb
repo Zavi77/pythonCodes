{
  "nbformat": 4,
  "nbformat_minor": 0,
  "metadata": {
    "colab": {
      "name": "235. Lowest Common Ancestor of a Binary Search Tree",
      "provenance": []
    },
    "kernelspec": {
      "name": "python3",
      "display_name": "Python 3"
    },
    "language_info": {
      "name": "python"
    }
  },
  "cells": [
    {
      "cell_type": "code",
      "metadata": {
        "id": "9pA_Lrb-ZKlf"
      },
      "source": [
        "# Definition for a binary tree node.\n",
        "# class TreeNode:\n",
        "#     def __init__(self, x):\n",
        "#         self.val = x\n",
        "#         self.left = None\n",
        "#         self.right = None\n",
        "\n",
        "\n",
        "class Solution:\n",
        "    def lowestCommonAncestor(self, root: 'TreeNode', p: 'TreeNode', q: 'TreeNode') -> 'TreeNode':\n",
        "        cur = root\n",
        "        while(cur):\n",
        "            if cur.val < p.val and cur.val < q.val:\n",
        "                cur = cur.right\n",
        "            elif cur.val > p.val and cur.val > q.val:\n",
        "                cur = cur.left\n",
        "            else:\n",
        "                return cur"
      ],
      "execution_count": null,
      "outputs": []
    }
  ]
}