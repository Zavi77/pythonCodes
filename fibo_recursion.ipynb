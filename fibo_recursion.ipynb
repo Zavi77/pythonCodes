{
 "cells": [
  {
   "cell_type": "code",
   "execution_count": 17,
   "metadata": {},
   "outputs": [],
   "source": [
    "from functools import lru_cache\n",
    "import time\n",
    "\n",
    "\n",
    "@lru_cache()\n",
    "def fun1(index):\n",
    "    if index <=0:\n",
    "        return print('Enter a positve index')\n",
    "    if index <=2:\n",
    "        return 1\n",
    "    return fun1(index-1)+fun1(index-2)\n",
    "\n",
    "def fun(index):\n",
    "    if index <=0:\n",
    "        return print('Enter a positve index')\n",
    "    if index <=2:\n",
    "        return 1\n",
    "    return fun(index-1)+fun(index-2)"
   ]
  },
  {
   "cell_type": "markdown",
   "metadata": {},
   "source": [
    "# Without DP"
   ]
  },
  {
   "cell_type": "code",
   "execution_count": 9,
   "metadata": {},
   "outputs": [
    {
     "name": "stdout",
     "output_type": "stream",
     "text": [
      "1\n",
      "0.0\n",
      "1\n",
      "0.0\n",
      "2\n",
      "0.0\n",
      "3\n",
      "0.0\n",
      "5\n",
      "0.0010008811950683594\n",
      "8\n",
      "0.0\n",
      "13\n",
      "0.0\n",
      "21\n",
      "0.0\n",
      "34\n",
      "0.0\n",
      "55\n",
      "0.0\n",
      "89\n",
      "0.0\n",
      "144\n",
      "0.001001119613647461\n",
      "233\n",
      "0.0\n",
      "377\n",
      "0.0010004043579101562\n",
      "610\n",
      "0.0\n",
      "987\n",
      "0.0020024776458740234\n",
      "1597\n",
      "0.002000570297241211\n",
      "2584\n",
      "0.0030012130737304688\n",
      "4181\n",
      "0.0030019283294677734\n",
      "6765\n",
      "0.007005214691162109\n",
      "10946\n",
      "0.009006738662719727\n",
      "17711\n",
      "0.011006355285644531\n",
      "28657\n",
      "0.017011404037475586\n",
      "46368\n",
      "0.030017852783203125\n",
      "75025\n",
      "0.048033714294433594\n",
      "121393\n",
      "0.07305002212524414\n",
      "196418\n",
      "0.12408328056335449\n",
      "317811\n",
      "0.19214677810668945\n",
      "514229\n",
      "0.3071868419647217\n"
     ]
    }
   ],
   "source": [
    "for i in range(1,30):\n",
    "    t1 = time.time()\n",
    "    print(fun(i))\n",
    "    t2 = time.time()\n",
    "    print(t2-t1)"
   ]
  },
  {
   "cell_type": "markdown",
   "metadata": {},
   "source": [
    "# With DP"
   ]
  },
  {
   "cell_type": "code",
   "execution_count": 18,
   "metadata": {},
   "outputs": [
    {
     "name": "stdout",
     "output_type": "stream",
     "text": [
      "1\n",
      "0.0\n",
      "1\n",
      "0.0\n",
      "2\n",
      "0.0\n",
      "3\n",
      "0.0\n",
      "5\n",
      "0.0\n",
      "8\n",
      "0.0\n",
      "13\n",
      "0.0\n",
      "21\n",
      "0.0\n",
      "34\n",
      "0.0\n",
      "55\n",
      "0.0\n",
      "89\n",
      "0.0\n",
      "144\n",
      "0.0\n",
      "233\n",
      "0.0\n",
      "377\n",
      "0.0\n",
      "610\n",
      "0.0\n",
      "987\n",
      "0.0\n",
      "1597\n",
      "0.0\n",
      "2584\n",
      "0.0\n",
      "4181\n",
      "0.0\n",
      "6765\n",
      "0.0\n",
      "10946\n",
      "0.0\n",
      "17711\n",
      "0.0\n",
      "28657\n",
      "0.0\n",
      "46368\n",
      "0.0\n",
      "75025\n",
      "0.0\n",
      "121393\n",
      "0.0\n",
      "196418\n",
      "0.0\n",
      "317811\n",
      "0.0\n",
      "514229\n",
      "0.0\n"
     ]
    }
   ],
   "source": [
    "for i in range(1,30):\n",
    "    t1 = time.time()\n",
    "    print(fun1(i))\n",
    "    t2 = time.time()\n",
    "    print(t2-t1)"
   ]
  }
 ],
 "metadata": {
  "kernelspec": {
   "display_name": "Python 3",
   "language": "python",
   "name": "python3"
  },
  "language_info": {
   "codemirror_mode": {
    "name": "ipython",
    "version": 3
   },
   "file_extension": ".py",
   "mimetype": "text/x-python",
   "name": "python",
   "nbconvert_exporter": "python",
   "pygments_lexer": "ipython3",
   "version": "3.7.4"
  }
 },
 "nbformat": 4,
 "nbformat_minor": 2
}
