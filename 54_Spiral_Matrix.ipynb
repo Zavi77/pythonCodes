{
  "nbformat": 4,
  "nbformat_minor": 0,
  "metadata": {
    "colab": {
      "name": "54. Spiral Matrix",
      "provenance": []
    },
    "kernelspec": {
      "name": "python3",
      "display_name": "Python 3"
    },
    "language_info": {
      "name": "python"
    }
  },
  "cells": [
    {
      "cell_type": "code",
      "metadata": {
        "id": "9pA_Lrb-ZKlf"
      },
      "source": [
        "class Solution:\n",
        "    def spiralOrder(self, matrix: List[List[int]]) -> List[int]:\n",
        "        row = len(matrix)\n",
        "        col = len(matrix[0])\n",
        "        li = []\n",
        "        left,right,top,bottom = 0,col,0,row\n",
        "        \n",
        "        while(left<right and top<bottom):\n",
        "            for i in range(left,right):\n",
        "                li.append(matrix[top][i])    \n",
        "            top += 1\n",
        "            \n",
        "            for i in range(top,bottom):\n",
        "                li.append(matrix[i][right-1])\n",
        "            right -= 1\n",
        "             \n",
        "            if not (left<right and top<bottom):\n",
        "                break\n",
        "            \n",
        "            for i in range(right-1,left-1,-1):\n",
        "                li.append(matrix[bottom-1][i])\n",
        "            bottom -= 1\n",
        "            \n",
        "            for i in range(bottom-1,top-1,-1):\n",
        "                li.append(matrix[i][left])\n",
        "            left += 1\n",
        "            \n",
        "        return li           "
      ],
      "execution_count": null,
      "outputs": []
    }
  ]
}