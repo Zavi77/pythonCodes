{
  "nbformat": 4,
  "nbformat_minor": 0,
  "metadata": {
    "colab": {
      "name": "252. Meeting Rooms",
      "provenance": []
    },
    "kernelspec": {
      "name": "python3",
      "display_name": "Python 3"
    },
    "language_info": {
      "name": "python"
    }
  },
  "cells": [
    {
      "cell_type": "code",
      "metadata": {
        "id": "9pA_Lrb-ZKlf"
      },
      "source": [
        "class Solution:\n",
        "    def canAttendMeetings(self, intervals: List[List[int]]) -> bool:\n",
        "        intervals = sorted(intervals, key = lambda x: x[0])\n",
        "        for i in range(1,len(intervals)):\n",
        "            if intervals[i-1][1] > intervals[i][0]:\n",
        "                return False\n",
        "        return True"
      ],
      "execution_count": null,
      "outputs": []
    }
  ]
}