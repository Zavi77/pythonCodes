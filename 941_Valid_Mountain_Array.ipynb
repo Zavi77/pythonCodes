{
  "nbformat": 4,
  "nbformat_minor": 0,
  "metadata": {
    "colab": {
      "name": "941. Valid Mountain Array",
      "provenance": [],
      "collapsed_sections": []
    },
    "kernelspec": {
      "name": "python3",
      "display_name": "Python 3"
    },
    "language_info": {
      "name": "python"
    }
  },
  "cells": [
    {
      "cell_type": "code",
      "metadata": {
        "id": "dOi1-naC5Gqb"
      },
      "source": [
        "class Solution:\n",
        "    def validMountainArray(self, arr: List[int]) -> bool:\n",
        "        fall = False\n",
        "        rise = False\n",
        "        for i in range(1,len(arr)):\n",
        "            if arr[i-1]<arr[i]:\n",
        "                if fall:\n",
        "                    return False\n",
        "                rise = True\n",
        "            elif arr[i-1]>arr[i]:\n",
        "                if not rise:\n",
        "                    return False\n",
        "                fall = True\n",
        "            else:\n",
        "                return False\n",
        "        return rise and fall\n",
        "                \n",
        "                "
      ],
      "execution_count": null,
      "outputs": []
    }
  ]
}