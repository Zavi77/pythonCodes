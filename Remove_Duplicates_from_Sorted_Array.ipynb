{
  "nbformat": 4,
  "nbformat_minor": 0,
  "metadata": {
    "colab": {
      "name": "Remove Duplicates from Sorted Array",
      "provenance": []
    },
    "kernelspec": {
      "name": "python3",
      "display_name": "Python 3"
    },
    "language_info": {
      "name": "python"
    }
  },
  "cells": [
    {
      "cell_type": "code",
      "metadata": {
        "id": "5qF5HS2WAWLC"
      },
      "source": [
        "class Solution:\n",
        "    def removeDuplicates(self, nums: List[int]) -> int:\n",
        "        c=1\n",
        "        for i in range(len(nums)-1):\n",
        "\n",
        "            if nums[i] == nums[i+1]:\n",
        "                print(i,nums)\n",
        "                continue\n",
        "            else:\n",
        "                nums[c]=nums[i+1]\n",
        "                print(i,nums)\n",
        "                c+=1\n",
        "        return c\n",
        "                    "
      ],
      "execution_count": null,
      "outputs": []
    }
  ]
}