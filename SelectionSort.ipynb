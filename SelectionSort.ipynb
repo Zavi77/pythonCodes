{
 "cells": [
  {
   "cell_type": "code",
   "execution_count": 1,
   "metadata": {},
   "outputs": [],
   "source": [
    "v1 =[5,9,3,10,45,2,0]"
   ]
  },
  {
   "cell_type": "code",
   "execution_count": 8,
   "metadata": {},
   "outputs": [],
   "source": [
    "def fun(arr):\n",
    "    for j in range(len(arr)-1):\n",
    "        print(arr)\n",
    "        minvalue = arr[j]\n",
    "        minindex = j\n",
    "        for i in range(j+1,len(arr)):\n",
    "            if arr[i]<minvalue:\n",
    "                minvalue = arr[i]\n",
    "                minindex = i\n",
    "        if minindex != j:\n",
    "            arr[j],arr[minindex]= arr[minindex],arr[j]\n",
    "    return arr"
   ]
  },
  {
   "cell_type": "code",
   "execution_count": 9,
   "metadata": {},
   "outputs": [
    {
     "name": "stdout",
     "output_type": "stream",
     "text": [
      "[5, 9, 3, 10, 45, 2, 0]\n",
      "[0, 9, 3, 10, 45, 2, 5]\n",
      "[0, 2, 3, 10, 45, 9, 5]\n",
      "[0, 2, 3, 10, 45, 9, 5]\n",
      "[0, 2, 3, 5, 45, 9, 10]\n",
      "[0, 2, 3, 5, 9, 45, 10]\n"
     ]
    },
    {
     "data": {
      "text/plain": [
       "[0, 2, 3, 5, 9, 10, 45]"
      ]
     },
     "execution_count": 9,
     "metadata": {},
     "output_type": "execute_result"
    }
   ],
   "source": [
    "fun(v1)"
   ]
  }
 ],
 "metadata": {
  "kernelspec": {
   "display_name": "Python 3",
   "language": "python",
   "name": "python3"
  },
  "language_info": {
   "codemirror_mode": {
    "name": "ipython",
    "version": 3
   },
   "file_extension": ".py",
   "mimetype": "text/x-python",
   "name": "python",
   "nbconvert_exporter": "python",
   "pygments_lexer": "ipython3",
   "version": "3.7.4"
  }
 },
 "nbformat": 4,
 "nbformat_minor": 2
}
