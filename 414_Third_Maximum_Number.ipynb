{
  "nbformat": 4,
  "nbformat_minor": 0,
  "metadata": {
    "colab": {
      "name": "414. Third Maximum Number",
      "provenance": [],
      "collapsed_sections": []
    },
    "kernelspec": {
      "name": "python3",
      "display_name": "Python 3"
    },
    "language_info": {
      "name": "python"
    }
  },
  "cells": [
    {
      "cell_type": "code",
      "metadata": {
        "id": "TpkqPIp8YLi9"
      },
      "source": [
        "class Solution:\n",
        "    def thirdMax(self, nums: List[int]) -> int:\n",
        "        setv=set()\n",
        "        for n in nums:\n",
        "            setv.add(n)\n",
        "            if len(setv)>3:\n",
        "                setv.remove(min(setv))\n",
        "        if len(setv)<3:\n",
        "            return max(setv)\n",
        "        else:\n",
        "            return min(setv)"
      ],
      "execution_count": null,
      "outputs": []
    }
  ]
}