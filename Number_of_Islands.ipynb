{
  "nbformat": 4,
  "nbformat_minor": 0,
  "metadata": {
    "colab": {
      "name": "Number of Islands",
      "provenance": [],
      "collapsed_sections": []
    },
    "kernelspec": {
      "name": "python3",
      "display_name": "Python 3"
    },
    "language_info": {
      "name": "python"
    }
  },
  "cells": [
    {
      "cell_type": "markdown",
      "metadata": {
        "id": "XZJF9k_razh7"
      },
      "source": [
        "BFS approach"
      ]
    },
    {
      "cell_type": "code",
      "metadata": {
        "id": "wAq_zmT8stym"
      },
      "source": [
        "from collections import deque\n",
        "\n",
        "def numIslands(grid) -> int:\n",
        "    rows = len(grid)\n",
        "    cols = len(grid[0])\n",
        "    q = deque()\n",
        "    visit = set()\n",
        "    island = 0\n",
        "        \n",
        "    \n",
        "    def helper(r,c):\n",
        "\n",
        "        if r<0 or c<0 or r==rows or c == cols or (r,c) in visit or grid[r][c] == '0':\n",
        "            return\n",
        "        visit.add((r,c))\n",
        "        q.append((r,c))\n",
        "            \n",
        "    def bfs(r,c):\n",
        "        q.append((r,c))\n",
        "        visit.add((r,c))\n",
        "        while(q):\n",
        "            r,c = q.popleft()\n",
        "            helper(r+1,c)\n",
        "            helper(r-1,c)\n",
        "            helper(r,c-1)\n",
        "            helper(r,c+1)\n",
        "\n",
        "        \n",
        "    for r in range(rows):\n",
        "        for c in range(cols):\n",
        "            if grid[r][c] == '1' and (r,c) not in visit:\n",
        "                bfs(r,c)\n",
        "                island+=1                    \n",
        "        \n",
        "            \n",
        "    return island"
      ],
      "execution_count": 19,
      "outputs": []
    },
    {
      "cell_type": "markdown",
      "metadata": {
        "id": "uaJACePQa3gN"
      },
      "source": [
        "DFS approach\n"
      ]
    },
    {
      "cell_type": "code",
      "metadata": {
        "id": "cFvz1o6Sa3tr"
      },
      "source": [
        "def numIslands(grid):\n",
        "    rows = len(grid)\n",
        "    cols = len(grid[0])\n",
        "    island = 0\n",
        "            \n",
        "    def dfs(r,c):\n",
        "\n",
        "        if r<0 or c<0 or r==rows or c == cols or grid[r][c] != '1':\n",
        "            return\n",
        "        grid[r][c] = '#'\n",
        "        \n",
        "        dfs(r+1,c)\n",
        "        dfs(r-1,c)\n",
        "        dfs(r,c-1)\n",
        "        dfs(r,c+1)\n",
        "\n",
        "        \n",
        "    for r in range(rows):\n",
        "        for c in range(cols):\n",
        "            if grid[r][c] == '1':\n",
        "                dfs(r,c)\n",
        "                island+=1                    \n",
        "\n",
        "    return island"
      ],
      "execution_count": 16,
      "outputs": []
    },
    {
      "cell_type": "code",
      "metadata": {
        "id": "Jp8JgAxFftJk"
      },
      "source": [
        "grid = [\n",
        "  [\"1\",\"1\",\"1\",\"1\",\"0\"],\n",
        "  [\"1\",\"1\",\"0\",\"1\",\"0\"],\n",
        "  [\"1\",\"1\",\"0\",\"0\",\"0\"],\n",
        "  [\"0\",\"0\",\"0\",\"0\",\"0\"]\n",
        "]"
      ],
      "execution_count": 18,
      "outputs": []
    },
    {
      "cell_type": "code",
      "metadata": {
        "colab": {
          "base_uri": "https://localhost:8080/"
        },
        "id": "ic4rFV6Ff0IE",
        "outputId": "9fdc49fa-a9c5-4b1a-eb51-717cbe025865"
      },
      "source": [
        "numIslands(grid)"
      ],
      "execution_count": 17,
      "outputs": [
        {
          "output_type": "execute_result",
          "data": {
            "text/plain": [
              "1"
            ]
          },
          "metadata": {
            "tags": []
          },
          "execution_count": 17
        }
      ]
    }
  ]
}