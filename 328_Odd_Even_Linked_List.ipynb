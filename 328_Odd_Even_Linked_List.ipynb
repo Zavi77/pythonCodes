{
  "nbformat": 4,
  "nbformat_minor": 0,
  "metadata": {
    "colab": {
      "name": "328. Odd Even Linked List",
      "provenance": []
    },
    "kernelspec": {
      "name": "python3",
      "display_name": "Python 3"
    },
    "language_info": {
      "name": "python"
    }
  },
  "cells": [
    {
      "cell_type": "code",
      "metadata": {
        "id": "1obsypadpHOP"
      },
      "source": [
        "# Definition for singly-linked list.\n",
        "# class ListNode:\n",
        "#     def __init__(self, val=0, next=None):\n",
        "#         self.val = val\n",
        "#         self.next = next\n",
        "class Solution:\n",
        "    def oddEvenList(self, head: ListNode) -> ListNode:\n",
        "        if head == None or head.next == None:\n",
        "            return head\n",
        "        \n",
        "        O = head\n",
        "        E = head.next\n",
        "        even = E\n",
        "        odd = O\n",
        "        while(even.next and odd):\n",
        "            odd.next = even.next\n",
        "            odd = odd.next\n",
        "            if odd.next is None:\n",
        "                break\n",
        "            even.next = odd.next\n",
        "            even = even.next\n",
        "        if even.next is None:\n",
        "            odd.next = E\n",
        "        else:\n",
        "            even.next = None\n",
        "            odd.next = E\n",
        "        return O\n",
        "        \n",
        "            "
      ],
      "execution_count": null,
      "outputs": []
    }
  ]
}