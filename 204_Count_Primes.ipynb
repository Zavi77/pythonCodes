{
  "nbformat": 4,
  "nbformat_minor": 0,
  "metadata": {
    "colab": {
      "name": "204. Count Primes.ipynb",
      "provenance": []
    },
    "kernelspec": {
      "name": "python3",
      "display_name": "Python 3"
    },
    "language_info": {
      "name": "python"
    }
  },
  "cells": [
    {
      "cell_type": "code",
      "metadata": {
        "id": "1obsypadpHOP"
      },
      "source": [
        "class Solution:\n",
        "    def countPrimes(self, n: int) -> int:\n",
        "        if n<3:\n",
        "            return 0\n",
        "        res = [1]*n\n",
        "        res[0]=res[1]=0\n",
        "        \n",
        "        for i in range(2,int(n**(0.5))+1):\n",
        "            if res[i]:\n",
        "                res[i*i:n:i] = [0]*len(res[i*i:n:i])\n",
        "        return sum(res)\n",
        "            "
      ],
      "execution_count": null,
      "outputs": []
    }
  ]
}