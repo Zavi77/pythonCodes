{
  "nbformat": 4,
  "nbformat_minor": 0,
  "metadata": {
    "colab": {
      "name": "String to Integer (atoi)",
      "provenance": [],
      "collapsed_sections": []
    },
    "kernelspec": {
      "name": "python3",
      "display_name": "Python 3"
    },
    "language_info": {
      "name": "python"
    }
  },
  "cells": [
    {
      "cell_type": "code",
      "metadata": {
        "id": "5qF5HS2WAWLC"
      },
      "source": [
        "class Solution:\n",
        "    def myAtoi(self, s: str) -> int:\n",
        "        res = []\n",
        "        s=s.split(' ')\n",
        "        for i in s:\n",
        "            if i != '':\n",
        "                s = i\n",
        "                break\n",
        "        if not s:\n",
        "            return 0\n",
        "        if s[0]=='-':\n",
        "            sign = -1\n",
        "            s=s[1:]\n",
        "        elif s[0]=='+':\n",
        "            s=s[1:]\n",
        "            sign = 1\n",
        "        else:\n",
        "            sign = 1\n",
        "        for i in s:\n",
        "            if i.isnumeric():\n",
        "                res.append(i)\n",
        "                continue\n",
        "            else:\n",
        "                break\n",
        "        if res:\n",
        "    \n",
        "            res = int(''.join(res))\n",
        "            res = sign*res\n",
        "            \n",
        "            if res< -(2**31):\n",
        "                return -(2**31)\n",
        "            elif res > ((2**31)-1):\n",
        "                return (2**31)-1\n",
        "            else:\n",
        "                return res\n",
        "                \n",
        "        else:\n",
        "            return 0"
      ],
      "execution_count": null,
      "outputs": []
    }
  ]
}