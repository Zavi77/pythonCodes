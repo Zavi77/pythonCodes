{
  "nbformat": 4,
  "nbformat_minor": 0,
  "metadata": {
    "colab": {
      "name": "122. Best Time to Buy and Sell Stock II",
      "provenance": []
    },
    "kernelspec": {
      "name": "python3",
      "display_name": "Python 3"
    },
    "language_info": {
      "name": "python"
    }
  },
  "cells": [
    {
      "cell_type": "code",
      "metadata": {
        "id": "zQCHbcGS4IoY"
      },
      "source": [
        "class Solution:\n",
        "    def maxProfit(self, prices: List[int]) -> int:\n",
        "        profit = 0\n",
        "        for i in range(1,len(prices)):\n",
        "            profit+=max(0,(prices[i] - prices[i-1]))\n",
        "        return profit"
      ],
      "execution_count": null,
      "outputs": []
    }
  ]
}