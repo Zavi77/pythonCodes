{
  "nbformat": 4,
  "nbformat_minor": 0,
  "metadata": {
    "colab": {
      "name": "Merge Sorted Array.ipynb",
      "provenance": [],
      "collapsed_sections": []
    },
    "kernelspec": {
      "name": "python3",
      "display_name": "Python 3"
    },
    "language_info": {
      "name": "python"
    }
  },
  "cells": [
    {
      "cell_type": "code",
      "metadata": {
        "id": "SUT0G4jjf5fw"
      },
      "source": [
        "\n",
        "def merge(nums1, m, nums2, n) -> None:\n",
        "    p1 = m - 1\n",
        "    p2 = n - 1\n",
        "\n",
        "    # And move p backwards through the array, each time writing\n",
        "    # the smallest value pointed at by p1 or p2.\n",
        "    for p in range(n + m - 1, -1, -1):\n",
        "        if p2 < 0:\n",
        "            break\n",
        "        if p1 >= 0 and nums1[p1] > nums2[p2]:\n",
        "            nums1[p] = nums1[p1]\n",
        "            p1 -= 1\n",
        "        else:\n",
        "            nums1[p] = nums2[p2]\n",
        "            p2 -= 1\n",
        "    print(nums1)"
      ],
      "execution_count": 45,
      "outputs": []
    },
    {
      "cell_type": "code",
      "metadata": {
        "colab": {
          "base_uri": "https://localhost:8080/"
        },
        "id": "6LcmgjJbf5iJ",
        "outputId": "2f3db8b4-feb9-4250-a280-d7d8a755230f"
      },
      "source": [
        "merge(nums1 = [1,2,3,0,0,0], m = 3, nums2 = [2,5,6], n = 3)"
      ],
      "execution_count": 46,
      "outputs": [
        {
          "output_type": "stream",
          "text": [
            "[1, 2, 2, 3, 5, 6]\n"
          ],
          "name": "stdout"
        }
      ]
    }
  ]
}