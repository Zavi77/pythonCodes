{
  "nbformat": 4,
  "nbformat_minor": 0,
  "metadata": {
    "colab": {
      "name": "160. Intersection of Two Linked Lists",
      "provenance": []
    },
    "kernelspec": {
      "name": "python3",
      "display_name": "Python 3"
    },
    "language_info": {
      "name": "python"
    }
  },
  "cells": [
    {
      "cell_type": "code",
      "metadata": {
        "id": "1obsypadpHOP"
      },
      "source": [
        "# Definition for singly-linked list.\n",
        "# class ListNode:\n",
        "#     def __init__(self, x):\n",
        "#         self.val = x\n",
        "#         self.next = None\n",
        "\n",
        "class Solution:\n",
        "    def getIntersectionNode(self, headA: ListNode, headB: ListNode) -> ListNode:\n",
        "        a = headA\n",
        "        b = headB\n",
        "        while(a != b):\n",
        "            if a:\n",
        "                a = a.next\n",
        "            else:\n",
        "                a = headB\n",
        "            if b:\n",
        "                b = b.next\n",
        "            else:\n",
        "                b = headA\n",
        "        return a\n"
      ],
      "execution_count": null,
      "outputs": []
    }
  ]
}