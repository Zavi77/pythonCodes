{
  "nbformat": 4,
  "nbformat_minor": 0,
  "metadata": {
    "colab": {
      "name": "Validate Binary Search Tree.ipynb",
      "provenance": []
    },
    "kernelspec": {
      "name": "python3",
      "display_name": "Python 3"
    },
    "language_info": {
      "name": "python"
    }
  },
  "cells": [
    {
      "cell_type": "code",
      "metadata": {
        "id": "5LNvfCMj-Xke"
      },
      "source": [
        ""
      ],
      "execution_count": null,
      "outputs": []
    },
    {
      "cell_type": "markdown",
      "metadata": {
        "id": "4Ef3oxNrAWAL"
      },
      "source": [
        "Approach 1 with valid range"
      ]
    },
    {
      "cell_type": "code",
      "metadata": {
        "id": "5qF5HS2WAWLC"
      },
      "source": [
        "import math\n",
        "class Solution:\n",
        "    def isValidBST(self,root: TreeNode) -> bool:\n",
        "        \n",
        "        def isValid(node, low=-math.inf, high=math.inf):\n",
        "            if not node:\n",
        "                return True\n",
        "            if node.val <= low or node.val >= high:\n",
        "                return False\n",
        "            else:\n",
        "                return (isValid(node.left,low,node.val) and isValid(node.right,node.val,high))\n",
        "            \n",
        "        return isValid(root)"
      ],
      "execution_count": null,
      "outputs": []
    },
    {
      "cell_type": "markdown",
      "metadata": {
        "id": "FhI0ECyXAccB"
      },
      "source": [
        "Approach 2 with Inorder"
      ]
    },
    {
      "cell_type": "code",
      "metadata": {
        "id": "WQG9b5pBAbYB"
      },
      "source": [
        "import math\n",
        "class Solution:\n",
        "    def isValidBST(self,root: TreeNode) -> bool:\n",
        "      def inOrder(root):\n",
        "        if not root:\n",
        "          return True\n",
        "        if self.prev >= root.val:\n",
        "          return False\n",
        "        if not inOrder(root.left):\n",
        "          return False\n",
        "        self.prev = root.val\n",
        "        return inOrder(root.right)\n",
        "      \n",
        "      self.prev = -math.inf\n",
        "      return inOrder(root)"
      ],
      "execution_count": null,
      "outputs": []
    }
  ]
}