{
  "nbformat": 4,
  "nbformat_minor": 0,
  "metadata": {
    "colab": {
      "name": "234. Palindrome Linked List",
      "provenance": []
    },
    "kernelspec": {
      "name": "python3",
      "display_name": "Python 3"
    },
    "language_info": {
      "name": "python"
    }
  },
  "cells": [
    {
      "cell_type": "code",
      "metadata": {
        "id": "UFJc10_d8MVM"
      },
      "source": [
        "# Definition for singly-linked list.\n",
        "# class ListNode:\n",
        "#     def __init__(self, val=0, next=None):\n",
        "#         self.val = val\n",
        "#         self.next = next\n",
        "class Solution:\n",
        "    def reverse(self, head):\n",
        "        cur = head\n",
        "        prev = None\n",
        "        \n",
        "        while(cur):\n",
        "            temp = cur.next\n",
        "            cur.next = prev\n",
        "            prev = cur\n",
        "            cur = temp\n",
        "        return prev\n",
        "    \n",
        "    def checkPali(self,head1,head2):\n",
        "        cur1 = head1\n",
        "        cur2 = head2\n",
        "        \n",
        "        while(cur2):\n",
        "            if cur1.val != cur2.val:\n",
        "                return False\n",
        "            else:\n",
        "                cur1 = cur1.next\n",
        "                cur2 = cur2.next\n",
        "        return True\n",
        "    \n",
        "    def isPalindrome(self, head: ListNode) -> bool:\n",
        "        cur = head\n",
        "        half = head\n",
        "        count = 0\n",
        "        while(cur and cur.next):\n",
        "            count+=1\n",
        "            if count%2==0:\n",
        "                cur = cur.next\n",
        "                half = half.next\n",
        "            else:\n",
        "                cur = cur.next\n",
        "            \n",
        "        last = self.reverse(half.next)\n",
        "        return self.checkPali(head,last)\n",
        "    \n",
        "            "
      ],
      "execution_count": null,
      "outputs": []
    },
    {
      "cell_type": "code",
      "metadata": {
        "id": "6wtvRyREZEYI"
      },
      "source": [
        ""
      ],
      "execution_count": null,
      "outputs": []
    },
    {
      "cell_type": "code",
      "metadata": {
        "id": "WJo77VHTZEay"
      },
      "source": [
        ""
      ],
      "execution_count": null,
      "outputs": []
    }
  ]
}