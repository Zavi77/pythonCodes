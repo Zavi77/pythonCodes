{
  "nbformat": 4,
  "nbformat_minor": 0,
  "metadata": {
    "colab": {
      "name": "163. Missing Ranges",
      "provenance": []
    },
    "kernelspec": {
      "name": "python3",
      "display_name": "Python 3"
    },
    "language_info": {
      "name": "python"
    }
  },
  "cells": [
    {
      "cell_type": "code",
      "metadata": {
        "id": "1obsypadpHOP"
      },
      "source": [
        "class Solution:\n",
        "    def findMissingRanges(self, nums: List[int], lower: int, upper: int) -> List[str]:\n",
        "        res = []\n",
        "        if len(nums)==0:\n",
        "            if lower != upper:\n",
        "                return [f\"{lower}->{upper}\"]\n",
        "            else:\n",
        "                return [f\"{lower}\"]         \n",
        "            \n",
        "        if nums[0] != lower:\n",
        "            if lower != nums[0]-1:\n",
        "                res.append(f\"{lower}->{nums[0]-1}\")\n",
        "            else:\n",
        "                res.append(f\"{nums[0]-1}\")\n",
        "        \n",
        "        for i in range(len(nums)-1):\n",
        "            if (nums[i+1] - nums[i]) > 2:\n",
        "                res.append(f\"{nums[i]+1}->{nums[i+1]-1}\")\n",
        "            elif (nums[i+1] - nums[i]) == 2:\n",
        "                res.append(f\"{nums[i]+1}\")\n",
        "        \n",
        "        if nums[-1] != upper:\n",
        "            if nums[-1]+1 != upper:\n",
        "                res.append(f\"{nums[-1]+1}->{upper}\")\n",
        "            else:\n",
        "                res.append(f\"{nums[-1]+1}\")\n",
        "        return res\n",
        "            \n",
        "    \n",
        "# [0,1,3,50,75], lower = 0, upper = 99\n",
        " "
      ],
      "execution_count": null,
      "outputs": []
    },
    {
      "cell_type": "markdown",
      "metadata": {
        "id": "Go5az34ReVGf"
      },
      "source": [
        "Shorter"
      ]
    },
    {
      "cell_type": "code",
      "metadata": {
        "id": "MvkHqRUxeURp"
      },
      "source": [
        "class Solution:\n",
        "    def findMissingRanges(self, nums: List[int], lower: int, upper: int) -> List[str]:\n",
        "            nums = [lower-1] + nums + [upper+1]\n",
        "            res = []\n",
        "            \n",
        "            for i in range(len(nums)-1):\n",
        "                if nums[i]+1 == nums[i+1]-1:\n",
        "                    res.append(str(nums[i]+1))\n",
        "                elif nums[i]+1 < nums[i+1]-1:\n",
        "                    res.append(str(nums[i]+1)+'->'+str(nums[i+1]-1))\n",
        "            return res\n",
        "                \n",
        "            \n",
        "    \n",
        "\n",
        " "
      ],
      "execution_count": null,
      "outputs": []
    }
  ]
}