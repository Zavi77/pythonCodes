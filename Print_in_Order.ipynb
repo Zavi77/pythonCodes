{
  "nbformat": 4,
  "nbformat_minor": 0,
  "metadata": {
    "colab": {
      "name": "Print in Order",
      "provenance": [],
      "collapsed_sections": []
    },
    "kernelspec": {
      "name": "python3",
      "display_name": "Python 3"
    },
    "language_info": {
      "name": "python"
    }
  },
  "cells": [
    {
      "cell_type": "code",
      "metadata": {
        "id": "GcvXHnjj8-uA"
      },
      "source": [
        "from threading import Lock\n",
        "\n",
        "class Foo:\n",
        "    def __init__(self):\n",
        "        self.firstjobDone = Lock()\n",
        "        self.secondjobDone = Lock()\n",
        "        self.firstjobDone.acquire()\n",
        "        self.secondjobDone.acquire()\n",
        "\n",
        "\n",
        "    def first(self, printFirst: 'Callable[[], None]') -> None:\n",
        "        \n",
        "        # printFirst() outputs \"first\". Do not change or remove this line.\n",
        "        printFirst()\n",
        "        self.firstjobDone.release()\n",
        "\n",
        "\n",
        "    def second(self, printSecond: 'Callable[[], None]') -> None:\n",
        "        with self.firstjobDone:\n",
        "            # printSecond() outputs \"second\". Do not change or remove this line.\n",
        "            printSecond()\n",
        "            self.secondjobDone.release()\n",
        "\n",
        "\n",
        "    def third(self, printThird: 'Callable[[], None]') -> None:\n",
        "        \n",
        "        with self.secondjobDone:\n",
        "        # printThird() outputs \"third\". Do not change or remove this line.\n",
        "            printThird()\n",
        "            "
      ],
      "execution_count": null,
      "outputs": []
    }
  ]
}