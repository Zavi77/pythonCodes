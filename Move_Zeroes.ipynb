{
  "nbformat": 4,
  "nbformat_minor": 0,
  "metadata": {
    "colab": {
      "name": "Move Zeroes",
      "provenance": []
    },
    "kernelspec": {
      "name": "python3",
      "display_name": "Python 3"
    },
    "language_info": {
      "name": "python"
    }
  },
  "cells": [
    {
      "cell_type": "code",
      "metadata": {
        "id": "ZsiKdsQVqsVd"
      },
      "source": [
        "def moveZeroes(nums) -> None:\n",
        "    \"\"\"\n",
        "    Do not return anything, modify nums in-place instead.\n",
        "    \"\"\"\n",
        "    pos = 0\n",
        "    \n",
        "    for i in range(len(nums)):\n",
        "        el = nums[i]\n",
        "        if el != 0:\n",
        "            nums[pos], nums[i] = nums[i], nums[pos]\n",
        "            pos += 1\n",
        "    print(nums)"
      ],
      "execution_count": 10,
      "outputs": []
    },
    {
      "cell_type": "code",
      "metadata": {
        "colab": {
          "base_uri": "https://localhost:8080/"
        },
        "id": "p-Np4KbPqt0X",
        "outputId": "f3b50e07-de8b-43a6-908f-2469f9b2a9ef"
      },
      "source": [
        "moveZeroes([1,0,2,6,7,0,6])"
      ],
      "execution_count": 12,
      "outputs": [
        {
          "output_type": "stream",
          "text": [
            "[1, 2, 6, 7, 6, 0, 0]\n"
          ],
          "name": "stdout"
        }
      ]
    }
  ]
}