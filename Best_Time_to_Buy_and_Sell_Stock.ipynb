{
  "nbformat": 4,
  "nbformat_minor": 0,
  "metadata": {
    "colab": {
      "name": "Best Time to Buy and Sell Stock",
      "provenance": []
    },
    "kernelspec": {
      "name": "python3",
      "display_name": "Python 3"
    },
    "language_info": {
      "name": "python"
    }
  },
  "cells": [
    {
      "cell_type": "markdown",
      "metadata": {
        "id": "mQQiQtzQ9cz0"
      },
      "source": [
        "I"
      ]
    },
    {
      "cell_type": "code",
      "metadata": {
        "id": "nNiKEpX79bqM"
      },
      "source": [
        "class Solution:\n",
        "    def maxProfit(self, prices: List[int]) -> int:\n",
        "        minv = float(inf)\n",
        "        maxp = float(-inf)\n",
        "        for i,v in enumerate(prices):\n",
        "            if v < minv:\n",
        "                minv =v\n",
        "            maxp = max((v - minv),maxp)\n",
        "        return maxp"
      ],
      "execution_count": null,
      "outputs": []
    },
    {
      "cell_type": "code",
      "metadata": {
        "id": "O702dr2c9hIE"
      },
      "source": [
        ""
      ],
      "execution_count": null,
      "outputs": []
    },
    {
      "cell_type": "markdown",
      "metadata": {
        "id": "5rWNuhpK9hg0"
      },
      "source": [
        "II"
      ]
    },
    {
      "cell_type": "code",
      "metadata": {
        "id": "zQCHbcGS4IoY"
      },
      "source": [
        "class Solution:\n",
        "    def maxProfit(self, prices: List[int]) -> int:\n",
        "        profit = 0\n",
        "        for i in range(1,len(prices)):\n",
        "            profit+=max(0,(prices[i] - prices[i-1]))\n",
        "        return profit"
      ],
      "execution_count": null,
      "outputs": []
    },
    {
      "cell_type": "markdown",
      "metadata": {
        "id": "Mv8h9BPD9ji7"
      },
      "source": [
        "III"
      ]
    },
    {
      "cell_type": "code",
      "metadata": {
        "id": "RSzd_oTn9k4_"
      },
      "source": [
        "class Solution:\n",
        "    def maxProfit(self, prices: List[int]) -> int:\n",
        "        if not prices:\n",
        "          return 0\n",
        "        A = - prices[0]\n",
        "        B = float('-inf')\n",
        "        C = float('-inf')\n",
        "        D = float('-inf')\n",
        "\n",
        "        for price in prices:\n",
        "          A = max(A, - price)\n",
        "          B = max(B, A +price)\n",
        "          C = max(C, B -price)\n",
        "          D = max(D, C +price)\n",
        "        return D"
      ],
      "execution_count": null,
      "outputs": []
    }
  ]
}