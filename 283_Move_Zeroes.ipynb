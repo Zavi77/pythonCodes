{
  "nbformat": 4,
  "nbformat_minor": 0,
  "metadata": {
    "colab": {
      "name": "283. Move Zeroes",
      "provenance": [],
      "collapsed_sections": []
    },
    "kernelspec": {
      "name": "python3",
      "display_name": "Python 3"
    },
    "language_info": {
      "name": "python"
    }
  },
  "cells": [
    {
      "cell_type": "code",
      "metadata": {
        "id": "TpkqPIp8YLi9"
      },
      "source": [
        "class Solution:\n",
        "    def moveZeroes(self, nums: List[int]) -> None:\n",
        "        \"\"\"\n",
        "        Do not return anything, modify nums in-place instead.\n",
        "        \"\"\"\n",
        "        pos = 0 \n",
        "        for i,v in enumerate(nums):\n",
        "            if v != 0:\n",
        "                if i!=pos:\n",
        "                    nums[i],nums[pos] = nums[pos],nums[i]\n",
        "                pos+=1\n",
        "        return nums\n",
        "            "
      ],
      "execution_count": null,
      "outputs": []
    }
  ]
}