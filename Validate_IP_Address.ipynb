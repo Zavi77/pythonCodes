{
  "nbformat": 4,
  "nbformat_minor": 0,
  "metadata": {
    "colab": {
      "name": "Validate IP Address",
      "provenance": []
    },
    "kernelspec": {
      "name": "python3",
      "display_name": "Python 3"
    },
    "language_info": {
      "name": "python"
    }
  },
  "cells": [
    {
      "cell_type": "code",
      "metadata": {
        "id": "ZsiKdsQVqsVd"
      },
      "source": [
        "class Solution:\n",
        "    import re\n",
        "    def validIPAddress(self, IP: str) -> str:\n",
        "      def checkip6(ip):\n",
        "          if '.' in ip:\n",
        "              return False\n",
        "          if not ip.replace(':','').isalnum():\n",
        "              return False\n",
        "          if len(re.findall('[:]',ip))!=7:\n",
        "            return False\n",
        "          k =[]  \n",
        "          for i in ip:\n",
        "              if i != ':':\n",
        "                  k.append(i)\n",
        "              else:\n",
        "                  k = ''.join(k)\n",
        "                  if not (len(k)>=1 and len(k)<=4):\n",
        "                      return False\n",
        "                  if (re.search('[g-z G-Z]',ip)) != None:\n",
        "                      return False\n",
        "                  k = []\n",
        "                  continue\n",
        "          k= ''.join(k)\n",
        "          if not (len(k)>=1 and len(k)<=4):\n",
        "              return False\n",
        "          if (re.search('[g-z G-Z]',ip)) != None:\n",
        "              return False\n",
        "          return True      \n",
        "      def checkip4(ip):\n",
        "          if ':' in ip:\n",
        "              return False\n",
        "          if not ip.replace('.','').isnumeric():\n",
        "              return False\n",
        "          if len(re.findall('[.]',ip))!=3:\n",
        "            return False\n",
        "          k=[]\n",
        "          for i in ip:\n",
        "              if i != '.':\n",
        "                  k.append(i)\n",
        "              else:\n",
        "                  k = ''.join(k)\n",
        "                  if len(k)>1 and k[0]=='0':\n",
        "                      return False\n",
        "                  if  len(k) == 0:\n",
        "                    return False\n",
        "                  k= int(k)\n",
        "                  if not (k>=0 and k<=255):\n",
        "                      return False\n",
        "                  k = []\n",
        "                  continue\n",
        "          k = ''.join(k)\n",
        "          if len(k)>1 and k[0]=='0':\n",
        "              return False\n",
        "          if  len(k) == 0:\n",
        "            return False\n",
        "          k= int(k)\n",
        "          if not (k>=0 and k<=255):\n",
        "              return False\n",
        "          return True\n",
        "        \n",
        "\n",
        "      if checkip6(IP):\n",
        "        return \"IPv6\"\n",
        "      elif checkip4(IP):\n",
        "        return \"IPv4\"\n",
        "      else:\n",
        "        return 'Neither'\n"
      ],
      "execution_count": 123,
      "outputs": []
    },
    {
      "cell_type": "code",
      "metadata": {
        "colab": {
          "base_uri": "https://localhost:8080/"
        },
        "id": "p-Np4KbPqt0X",
        "outputId": "25bc2a31-8dbc-4763-be59-209fa8c6c8d3"
      },
      "source": [
        "c = Solution()\n",
        "IP = \"1.0.1.\"\n",
        "print(c.validIPAddress(IP))"
      ],
      "execution_count": 124,
      "outputs": [
        {
          "output_type": "stream",
          "text": [
            "Neither\n"
          ],
          "name": "stdout"
        }
      ]
    }
  ]
}