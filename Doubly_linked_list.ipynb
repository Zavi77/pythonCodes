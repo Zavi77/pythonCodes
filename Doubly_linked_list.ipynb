{
 "cells": [
  {
   "cell_type": "code",
   "execution_count": 1,
   "metadata": {},
   "outputs": [],
   "source": [
    "class Node:\n",
    "    def __init__(self,data):\n",
    "        self.data=data\n",
    "        self.next=None\n",
    "        self.prev=None"
   ]
  },
  {
   "cell_type": "code",
   "execution_count": 2,
   "metadata": {},
   "outputs": [],
   "source": [
    "class DoubleLL:\n",
    "    def __init__(self):\n",
    "        self.head = None\n",
    "        self.tail = None\n",
    "        self.size = 0\n",
    "    \n",
    "    def insert(self,data,position):\n",
    "        node = Node(data)\n",
    "        if self.head == None:\n",
    "            print(\"Inserting in beginning\")\n",
    "            self.head=node\n",
    "            self.tail=node\n",
    "            self.size+=1\n",
    "        elif position > self.size:\n",
    "            print('Invalid position, will insert in end')\n",
    "            node.next = self.tail.next\n",
    "            node.prev = self.tail\n",
    "            self.tail = node\n",
    "            self.size+=1\n",
    "        elif position == 0:\n",
    "            node.next=self.head\n",
    "            self.head.previous = node\n",
    "            self.head = node\n",
    "            self.size+=1\n",
    "        else:\n",
    "            current = self.head\n",
    "            i=0\n",
    "            while(i < position):\n",
    "                  current = current.next\n",
    "            node.next = current.next\n",
    "            node.prev = current\n",
    "            current.next = node\n",
    "            node.next.previous = node\n",
    "            self.size+=1\n",
    "        \n",
    "        \n",
    "    def print(self):\n",
    "        if self.head == None:\n",
    "            print('Empty')\n",
    "            return\n",
    "        else:\n",
    "            current = self.head\n",
    "            while(current != None):\n",
    "                print(f'{current.data}' + ' ')\n",
    "                current = current.next\n",
    "        return"
   ]
  },
  {
   "cell_type": "code",
   "execution_count": 3,
   "metadata": {},
   "outputs": [
    {
     "name": "stdout",
     "output_type": "stream",
     "text": [
      "Inserting in beginning\n"
     ]
    }
   ],
   "source": [
    "lk = DoubleLL()\n",
    "lk.insert(2,5)"
   ]
  },
  {
   "cell_type": "code",
   "execution_count": 4,
   "metadata": {},
   "outputs": [
    {
     "name": "stdout",
     "output_type": "stream",
     "text": [
      "2 \n"
     ]
    }
   ],
   "source": [
    "lk.print()"
   ]
  },
  {
   "cell_type": "code",
   "execution_count": 5,
   "metadata": {},
   "outputs": [
    {
     "name": "stdout",
     "output_type": "stream",
     "text": [
      "Invalid position, will insert in end\n"
     ]
    }
   ],
   "source": [
    "lk.insert(2,5)"
   ]
  },
  {
   "cell_type": "code",
   "execution_count": 6,
   "metadata": {},
   "outputs": [
    {
     "name": "stdout",
     "output_type": "stream",
     "text": [
      "2 \n"
     ]
    }
   ],
   "source": [
    "lk.print()"
   ]
  },
  {
   "cell_type": "code",
   "execution_count": 7,
   "metadata": {},
   "outputs": [],
   "source": [
    "lk.insert(5,0)"
   ]
  },
  {
   "cell_type": "code",
   "execution_count": 8,
   "metadata": {},
   "outputs": [
    {
     "name": "stdout",
     "output_type": "stream",
     "text": [
      "5 \n",
      "2 \n"
     ]
    }
   ],
   "source": [
    "lk.print()"
   ]
  },
  {
   "cell_type": "code",
   "execution_count": null,
   "metadata": {},
   "outputs": [],
   "source": [
    "lk.size"
   ]
  }
 ],
 "metadata": {
  "kernelspec": {
   "display_name": "Python 3",
   "language": "python",
   "name": "python3"
  },
  "language_info": {
   "codemirror_mode": {
    "name": "ipython",
    "version": 3
   },
   "file_extension": ".py",
   "mimetype": "text/x-python",
   "name": "python",
   "nbconvert_exporter": "python",
   "pygments_lexer": "ipython3",
   "version": "3.7.4"
  }
 },
 "nbformat": 4,
 "nbformat_minor": 2
}
