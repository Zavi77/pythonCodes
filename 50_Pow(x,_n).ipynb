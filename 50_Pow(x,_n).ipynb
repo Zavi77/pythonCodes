{
  "nbformat": 4,
  "nbformat_minor": 0,
  "metadata": {
    "colab": {
      "name": "50. Pow(x, n)",
      "provenance": []
    },
    "kernelspec": {
      "name": "python3",
      "display_name": "Python 3"
    },
    "language_info": {
      "name": "python"
    }
  },
  "cells": [
    {
      "cell_type": "markdown",
      "metadata": {
        "id": "YoRW3hE9MCzX"
      },
      "source": [
        "Recursive"
      ]
    },
    {
      "cell_type": "code",
      "metadata": {
        "id": "Xvayi6c6MCUe"
      },
      "source": [
        "\n",
        "class Solution:\n",
        "    def myPow(self, x: float, n: int) -> float:\n",
        "        if n<0:\n",
        "            return self.myPow(1/x,-n)\n",
        "        if n==0:\n",
        "            return 1\n",
        "\n",
        "        temp = self.myPow(x,n//2)\n",
        "        if n % 2 == 0:\n",
        "            return temp*temp\n",
        "        else:\n",
        "            return x*temp*temp   \n",
        "            "
      ],
      "execution_count": null,
      "outputs": []
    }
  ]
}