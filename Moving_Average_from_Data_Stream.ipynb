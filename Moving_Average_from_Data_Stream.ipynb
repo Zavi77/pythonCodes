{
  "nbformat": 4,
  "nbformat_minor": 0,
  "metadata": {
    "colab": {
      "name": "Moving Average from Data Stream",
      "provenance": []
    },
    "kernelspec": {
      "name": "python3",
      "display_name": "Python 3"
    },
    "language_info": {
      "name": "python"
    }
  },
  "cells": [
    {
      "cell_type": "code",
      "metadata": {
        "id": "rRkH7xoPSqwf"
      },
      "source": [
        "from collections import deque\n",
        "class MovingAverage:\n",
        "\n",
        "    def __init__(self, size: int):\n",
        "        \"\"\"\n",
        "        Initialize your data structure here.\n",
        "        \"\"\"\n",
        "        self.size = size\n",
        "        self.queue = deque()\n",
        "        self.count = 0\n",
        "        self.sum = 0\n",
        "\n",
        "    def next(self, val: int) -> float:\n",
        "        self.queue.append(val)\n",
        "        self.count+=1\n",
        "        head = self.queue.popleft() if self.count> self.size else 0\n",
        "        self.sum = self.sum - head + val\n",
        "        return self.sum/min(self.count,self.size)\n",
        "\n",
        "        \n",
        "# Your MovingAverage object will be instantiated and called as such:\n",
        "# obj = MovingAverage(size)\n",
        "# param_1 = obj.next(val)"
      ],
      "execution_count": null,
      "outputs": []
    },
    {
      "cell_type": "code",
      "metadata": {
        "id": "9W_7psZuSqzP"
      },
      "source": [
        ""
      ],
      "execution_count": null,
      "outputs": []
    },
    {
      "cell_type": "code",
      "metadata": {
        "id": "ViPkusbVSq2H"
      },
      "source": [
        ""
      ],
      "execution_count": null,
      "outputs": []
    }
  ]
}