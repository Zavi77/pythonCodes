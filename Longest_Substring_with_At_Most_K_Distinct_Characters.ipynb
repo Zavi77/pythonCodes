{
  "nbformat": 4,
  "nbformat_minor": 0,
  "metadata": {
    "colab": {
      "name": "Longest Substring with At Most K Distinct Characters.ipynb",
      "provenance": []
    },
    "kernelspec": {
      "name": "python3",
      "display_name": "Python 3"
    },
    "language_info": {
      "name": "python"
    }
  },
  "cells": [
    {
      "cell_type": "code",
      "metadata": {
        "id": "H1kDDmASO_1-"
      },
      "source": [
        "s = \"eceba\"\n",
        "k=2\n"
      ],
      "execution_count": 2,
      "outputs": []
    },
    {
      "cell_type": "code",
      "metadata": {
        "id": "qVcCw1SSNwJY"
      },
      "source": [
        "from collections import defaultdict\n",
        "class Solution:\n",
        "    def lengthOfLongestSubstringKDistinct(self, s: str, k: int) -> int:\n",
        "        l=0\n",
        "        r=0\n",
        "        dc=defaultdict()\n",
        "        maxlen = 0\n",
        "        while(r<len(s)):\n",
        "          dc[s[r]] = r\n",
        "          if len(dc) > k:\n",
        "            min_index = min(dc.values())\n",
        "            l=m+1\n",
        "            del dc[s[min_index]]\n",
        "          maxlen = max(maxlen,r-l+1)\n",
        "          r+=1\n",
        "        return maxlen "
      ],
      "execution_count": null,
      "outputs": []
    }
  ]
}