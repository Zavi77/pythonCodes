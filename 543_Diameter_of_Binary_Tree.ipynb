{
  "nbformat": 4,
  "nbformat_minor": 0,
  "metadata": {
    "colab": {
      "name": "543. Diameter of Binary Tree",
      "provenance": []
    },
    "kernelspec": {
      "name": "python3",
      "display_name": "Python 3"
    },
    "language_info": {
      "name": "python"
    }
  },
  "cells": [
    {
      "cell_type": "code",
      "metadata": {
        "id": "9pA_Lrb-ZKlf"
      },
      "source": [
        "# Definition for a binary tree node.\n",
        "# class TreeNode:\n",
        "#     def __init__(self, val=0, left=None, right=None):\n",
        "#         self.val = val\n",
        "#         self.left = left\n",
        "#         self.right = right\n",
        "from collections import deque\n",
        "class Solution:\n",
        "    def diameterOfBinaryTree(self, root: TreeNode) -> int:\n",
        "        res = 0\n",
        "        \n",
        "        def dfs(node):\n",
        "            nonlocal res\n",
        "            if not node:\n",
        "                return 0\n",
        "            left = dfs(node.left)\n",
        "            right = dfs(node.right)\n",
        "            res = max(res,left+right)\n",
        "            return max(left,right)+1\n",
        "        dfs(root)\n",
        "        return res"
      ],
      "execution_count": null,
      "outputs": []
    }
  ]
}