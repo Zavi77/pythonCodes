{
  "nbformat": 4,
  "nbformat_minor": 0,
  "metadata": {
    "colab": {
      "name": "Valid Parentheses.ipynb",
      "provenance": []
    },
    "kernelspec": {
      "name": "python3",
      "display_name": "Python 3"
    },
    "language_info": {
      "name": "python"
    }
  },
  "cells": [
    {
      "cell_type": "code",
      "metadata": {
        "id": "qO4vSFPXLK9W"
      },
      "source": [
        "def isValid(s):\n",
        "  stack=[]\n",
        "  dc={'(': ')', '{' : '}', '[': ']'}\n",
        "  for i in s:\n",
        "    if i in dc.keys():\n",
        "      stack.append(i)\n",
        "\n",
        "    else:\n",
        "      if len(stack) !=0:\n",
        "        if dc[stack.pop()] != i:\n",
        "          return False\n",
        "      else:\n",
        "        return False\n",
        "  return len(stack) ==0\n"
      ],
      "execution_count": 20,
      "outputs": []
    },
    {
      "cell_type": "code",
      "metadata": {
        "colab": {
          "base_uri": "https://localhost:8080/"
        },
        "id": "rUq0g3mjM8Wm",
        "outputId": "3e4726dd-13e0-4e95-822a-4b63f1590e38"
      },
      "source": [
        "isValid(\"{([])}\")"
      ],
      "execution_count": 29,
      "outputs": [
        {
          "output_type": "stream",
          "text": [
            "{ []\n",
            "( ['{']\n",
            "[ ['{', '(']\n",
            "] ['{', '(', '[']\n",
            ") ['{', '(']\n",
            "} ['{']\n"
          ],
          "name": "stdout"
        },
        {
          "output_type": "execute_result",
          "data": {
            "text/plain": [
              "True"
            ]
          },
          "metadata": {
            "tags": []
          },
          "execution_count": 29
        }
      ]
    }
  ]
}