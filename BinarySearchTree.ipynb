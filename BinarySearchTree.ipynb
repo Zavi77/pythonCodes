{
 "cells": [
  {
   "cell_type": "code",
   "execution_count": 11,
   "metadata": {},
   "outputs": [],
   "source": [
    "class Node():\n",
    "    def __init__(self,data):\n",
    "        self.root = data\n",
    "        self.left = None\n",
    "        self.right = None\n",
    "        \n",
    "        \n",
    "class Tree():\n",
    "        \n",
    "    def __init__(self):\n",
    "        self.root = None\n",
    "        self.left = None\n",
    "        self.right = None\n",
    "        \n",
    "    def insert(self,data):\n",
    "        node = Node(data)\n",
    "        if self.root == None:\n",
    "            self.root = node\n",
    "        else:\n",
    "            current = self.root\n",
    "            while current != node:\n",
    "                if data > current.root:\n",
    "                    if current.right == None:\n",
    "                        current.right = node\n",
    "                        return\n",
    "                    current = current.right\n",
    "                else:\n",
    "                    if current.left == None:\n",
    "                        current.left = node\n",
    "                        return \n",
    "                    current = current.left\n",
    "    \n",
    "    def search(self,data):\n",
    "        current = self.root\n",
    "        while current != data:\n",
    "                if data > current.root:\n",
    "                    if current.right == None:\n",
    "                        return print('not found')\n",
    "                    current = current.right\n",
    "                elif data < current.root:\n",
    "                    if current.left == None:\n",
    "                        return print('not found')\n",
    "                    current = current.left\n",
    "                else: \n",
    "                    return print('Data present')\n",
    "                    "
   ]
  },
  {
   "cell_type": "code",
   "execution_count": 12,
   "metadata": {},
   "outputs": [],
   "source": [
    "tree = Tree()\n",
    "tree.insert(8)\n",
    "tree.insert(5)\n",
    "tree.insert(6)\n",
    "tree.insert(4)"
   ]
  },
  {
   "cell_type": "code",
   "execution_count": 18,
   "metadata": {},
   "outputs": [
    {
     "name": "stdout",
     "output_type": "stream",
     "text": [
      "not found\n"
     ]
    }
   ],
   "source": [
    "tree.search(2)"
   ]
  }
 ],
 "metadata": {
  "kernelspec": {
   "display_name": "Python 3",
   "language": "python",
   "name": "python3"
  },
  "language_info": {
   "codemirror_mode": {
    "name": "ipython",
    "version": 3
   },
   "file_extension": ".py",
   "mimetype": "text/x-python",
   "name": "python",
   "nbconvert_exporter": "python",
   "pygments_lexer": "ipython3",
   "version": "3.7.4"
  }
 },
 "nbformat": 4,
 "nbformat_minor": 2
}
