{
 "cells": [
  {
   "cell_type": "code",
   "execution_count": 1,
   "metadata": {},
   "outputs": [],
   "source": [
    "class Node():\n",
    "    def __init__(self,data):\n",
    "        self.root = data\n",
    "        self.left = None\n",
    "        self.right = None\n",
    "        \n",
    "        \n",
    "class Tree():\n",
    "        \n",
    "    def __init__(self):\n",
    "        self.root = None\n",
    "        self.left = None\n",
    "        self.right = None\n",
    "        \n",
    "    def insert(self,data):\n",
    "        node = Node(data)\n",
    "        if self.root == None:\n",
    "            self.root = node\n",
    "        else:\n",
    "            current = self.root\n",
    "            while current != node:\n",
    "                if data > current.root:\n",
    "                    if current.right == None:\n",
    "                        current.right = node\n",
    "                        return\n",
    "                    current = current.right\n",
    "                else:\n",
    "                    if current.left == None:\n",
    "                        current.left = node\n",
    "                        return \n",
    "                    current = current.left\n",
    "    \n",
    "    def search(self,data):\n",
    "        current = self.root\n",
    "        while current != data:\n",
    "                if data > current.root:\n",
    "                    if current.right == None:\n",
    "                        return print('not found')\n",
    "                    current = current.right\n",
    "                elif data < current.root:\n",
    "                    if current.left == None:\n",
    "                        return print('not found')\n",
    "                    current = current.left\n",
    "                else: \n",
    "                    return print('Data present')\n"
   ]
  },
  {
   "cell_type": "code",
   "execution_count": 2,
   "metadata": {},
   "outputs": [],
   "source": [
    "tree = Tree()\n",
    "tree.insert(8)\n",
    "tree.insert(5)\n",
    "tree.insert(6)\n",
    "tree.insert(4)"
   ]
  },
  {
   "cell_type": "code",
   "execution_count": 3,
   "metadata": {},
   "outputs": [
    {
     "name": "stdout",
     "output_type": "stream",
     "text": [
      "not found\n"
     ]
    }
   ],
   "source": [
    "tree.search(1)"
   ]
  },
  {
   "cell_type": "code",
   "execution_count": 4,
   "metadata": {},
   "outputs": [],
   "source": [
    "def traverse(tree):  \n",
    "    if type(tree.root) != int:\n",
    "        current = tree.root\n",
    "    else:\n",
    "        current = tree\n",
    "    left = current.left\n",
    "    right = current.right\n",
    "    print(current.root)\n",
    "    if left == None and right == None:\n",
    "        return print('leaf node')\n",
    "    elif left == None:\n",
    "        print('left side absent')\n",
    "        return traverse(right)\n",
    "    elif right == None:\n",
    "        print('right side absent')\n",
    "        return traverse(left)\n",
    "    else:\n",
    "        print('both right left present')\n",
    "        traverse(left)\n",
    "        traverse(right)\n",
    "        return \n"
   ]
  },
  {
   "cell_type": "code",
   "execution_count": 5,
   "metadata": {},
   "outputs": [
    {
     "name": "stdout",
     "output_type": "stream",
     "text": [
      "8\n",
      "right side absent\n",
      "5\n",
      "both right left present\n",
      "4\n",
      "leaf node\n",
      "6\n",
      "leaf node\n"
     ]
    }
   ],
   "source": [
    "traverse(tree)"
   ]
  }
 ],
 "metadata": {
  "kernelspec": {
   "display_name": "Python 3",
   "language": "python",
   "name": "python3"
  },
  "language_info": {
   "codemirror_mode": {
    "name": "ipython",
    "version": 3
   },
   "file_extension": ".py",
   "mimetype": "text/x-python",
   "name": "python",
   "nbconvert_exporter": "python",
   "pygments_lexer": "ipython3",
   "version": "3.7.4"
  }
 },
 "nbformat": 4,
 "nbformat_minor": 2
}
