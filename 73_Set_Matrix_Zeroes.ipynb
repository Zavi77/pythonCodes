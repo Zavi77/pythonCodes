{
  "nbformat": 4,
  "nbformat_minor": 0,
  "metadata": {
    "colab": {
      "name": "73. Set Matrix Zeroes",
      "provenance": []
    },
    "kernelspec": {
      "name": "python3",
      "display_name": "Python 3"
    },
    "language_info": {
      "name": "python"
    }
  },
  "cells": [
    {
      "cell_type": "code",
      "metadata": {
        "id": "1obsypadpHOP"
      },
      "source": [
        "class Solution:\n",
        "    def setZeroes(self, matrix: List[List[int]]) -> None:\n",
        "        \"\"\"\n",
        "        Do not return anything, modify matrix in-place instead.\n",
        "        \"\"\"\n",
        "        rows = len(matrix)\n",
        "        cols = len(matrix[0])\n",
        "        colval = False\n",
        "        for i in range(rows):\n",
        "            if matrix[i][0] == 0:\n",
        "                colval = True\n",
        "            for j in range(1,cols):\n",
        "                if matrix[i][j]==0:\n",
        "                    matrix[0][j] = 0\n",
        "                    matrix[i][0] = 0\n",
        "        \n",
        "        for i in range(1,rows):\n",
        "            for j in range(1,cols):\n",
        "                if matrix[0][j] == 0 or matrix[i][0] == 0:\n",
        "                    matrix[i][j]=0\n",
        "                    \n",
        "        if matrix[0][0] ==0:\n",
        "            for j in range(cols):\n",
        "                matrix[0][j] = 0\n",
        "                \n",
        "        if colval == True:\n",
        "            for i in range(rows):\n",
        "                matrix[i][0] = 0\n",
        "        \n",
        "                    \n",
        "\n",
        "        "
      ],
      "execution_count": null,
      "outputs": []
    }
  ]
}