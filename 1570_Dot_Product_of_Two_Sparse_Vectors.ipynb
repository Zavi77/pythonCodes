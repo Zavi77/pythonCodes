{
  "nbformat": 4,
  "nbformat_minor": 0,
  "metadata": {
    "colab": {
      "name": "1570. Dot Product of Two Sparse Vectors",
      "provenance": []
    },
    "kernelspec": {
      "name": "python3",
      "display_name": "Python 3"
    },
    "language_info": {
      "name": "python"
    }
  },
  "cells": [
    {
      "cell_type": "code",
      "metadata": {
        "id": "0nR1dze3CJXA"
      },
      "source": [
        "class SparseVector:\n",
        "    def __init__(self, nums: List[int]):\n",
        "        self.dc = {}\n",
        "        for i,v in enumerate(nums):\n",
        "            if v != 0:\n",
        "                self.dc[i]=v\n",
        "        \n",
        "\n",
        "    # Return the dotProduct of two sparse vectors\n",
        "    def dotProduct(self, vec: 'SparseVector') -> int:\n",
        "        a = vec.dc\n",
        "        b = self.dc\n",
        "        if len(a) > len(b):\n",
        "            a,b = b,a\n",
        "        return sum(a[i]*b[i] for i in a if i in b)\n",
        "            \n",
        "\n",
        "# Your SparseVector object will be instantiated and called as such:\n",
        "# v1 = SparseVector(nums1)\n",
        "# v2 = SparseVector(nums2)\n",
        "# ans = v1.dotProduct(v2)"
      ],
      "execution_count": null,
      "outputs": []
    }
  ]
}