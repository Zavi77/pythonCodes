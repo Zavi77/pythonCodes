{
  "nbformat": 4,
  "nbformat_minor": 0,
  "metadata": {
    "colab": {
      "name": "198. House Robber",
      "provenance": []
    },
    "kernelspec": {
      "name": "python3",
      "display_name": "Python 3"
    },
    "language_info": {
      "name": "python"
    }
  },
  "cells": [
    {
      "cell_type": "code",
      "metadata": {
        "id": "9pA_Lrb-ZKlf"
      },
      "source": [
        "class Solution:\n",
        "    def rob(self, nums: List[int]) -> int:\n",
        "        rob1, rob2 = 0,0\n",
        "        for n in nums:\n",
        "            temp = max(rob2, rob1 + n)\n",
        "            rob1 = rob2\n",
        "            rob2 = temp\n",
        "        return rob2\n",
        "            "
      ],
      "execution_count": null,
      "outputs": []
    }
  ]
}