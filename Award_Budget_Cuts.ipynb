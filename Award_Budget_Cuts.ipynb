{
  "nbformat": 4,
  "nbformat_minor": 0,
  "metadata": {
    "colab": {
      "name": "Award Budget Cuts",
      "provenance": []
    },
    "kernelspec": {
      "name": "python3",
      "display_name": "Python 3"
    },
    "language_info": {
      "name": "python"
    }
  },
  "cells": [
    {
      "cell_type": "code",
      "metadata": {
        "id": "jfxAXNH3CzRZ"
      },
      "source": [
        "def findGrantsCap(grantsArray, newBudget):\n",
        "  n = len(grantsArray)\n",
        "  grantsArray.sort(reverse=True)\n",
        "  grantsArray.append(0)\n",
        "  surplus = sum(grantsArray) - newBudget\n",
        "  if surplus <= 0:\n",
        "    return grantsArray[0]\n",
        "  for i in range(1,n):\n",
        "    surplus -= i* (grantsArray[i-1] - grantsArray[i])\n",
        "    if surplus <=0:\n",
        "      break\n",
        "  return grantsArray[i] + (-surplus)/float(i)"
      ],
      "execution_count": 37,
      "outputs": []
    },
    {
      "cell_type": "code",
      "metadata": {
        "colab": {
          "base_uri": "https://localhost:8080/"
        },
        "id": "LttiPRG67zdN",
        "outputId": "8900f1fd-6867-4122-b404-68c6de4a3118"
      },
      "source": [
        "grantsArray = [2, 100, 50, 120, 1000]\n",
        "newBudget = 190\n",
        "\n",
        "findGrantsCap(grantsArray,newBudget)"
      ],
      "execution_count": 38,
      "outputs": [
        {
          "output_type": "execute_result",
          "data": {
            "text/plain": [
              "47.0"
            ]
          },
          "metadata": {
            "tags": []
          },
          "execution_count": 38
        }
      ]
    }
  ]
}