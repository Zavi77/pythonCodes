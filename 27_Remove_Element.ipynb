{
  "nbformat": 4,
  "nbformat_minor": 0,
  "metadata": {
    "colab": {
      "name": "27. Remove Element",
      "provenance": [],
      "collapsed_sections": []
    },
    "kernelspec": {
      "name": "python3",
      "display_name": "Python 3"
    },
    "language_info": {
      "name": "python"
    }
  },
  "cells": [
    {
      "cell_type": "markdown",
      "metadata": {
        "id": "G5AKLMdDfMh6"
      },
      "source": [
        "Approach 1"
      ]
    },
    {
      "cell_type": "code",
      "metadata": {
        "id": "5nftQPZW94UI"
      },
      "source": [
        "class Solution:\n",
        "    def removeElement(self, nums: List[int], val: int) -> int:\n",
        "        shift = len(nums)-1\n",
        "        count=0\n",
        "        for n in range(len(nums)-1,-1,-1):\n",
        "            if nums[n]==val:\n",
        "                i = n\n",
        "                count+=1\n",
        "                while i < shift:\n",
        "                    nums[i]=nums[i+1]\n",
        "                    i+=1\n",
        "        return len(nums)-count\n",
        "            "
      ],
      "execution_count": null,
      "outputs": []
    },
    {
      "cell_type": "markdown",
      "metadata": {
        "id": "QB0LIWaGfKP7"
      },
      "source": [
        "Approach 2"
      ]
    },
    {
      "cell_type": "code",
      "metadata": {
        "id": "TofnHPbQeun3"
      },
      "source": [
        "class Solution:\n",
        "    def removeElement(self, nums: List[int], val: int) -> int:\n",
        "        i = 0\n",
        "        for n in nums:\n",
        "            if n!=val:\n",
        "                nums[i]=n\n",
        "                i+=1\n",
        "        return i"
      ],
      "execution_count": null,
      "outputs": []
    }
  ]
}