{
  "nbformat": 4,
  "nbformat_minor": 0,
  "metadata": {
    "colab": {
      "name": "Passing Yearbooks",
      "provenance": []
    },
    "kernelspec": {
      "name": "python3",
      "display_name": "Python 3"
    },
    "language_info": {
      "name": "python"
    }
  },
  "cells": [
    {
      "cell_type": "code",
      "metadata": {
        "id": "YNmfWnCjKPxJ"
      },
      "source": [
        "def findSignatureCounts1(arr):\n",
        "  n = len(arr)\n",
        "  arr_signatures = []\n",
        "  for i in range(n):\n",
        "\n",
        "    nextStudent = arr[i]\n",
        "    print(f'{nextStudent} nextStudent')\n",
        "    signatures = 1\n",
        "    while nextStudent != i+1:\n",
        "      print(nextStudent,i+1)\n",
        "      signatures += 1\n",
        "      nextStudent = arr[nextStudent-1]\n",
        "      print(f'{nextStudent} nextStudent Inner')\n",
        "    arr_signatures.append(signatures)\n",
        "  return arr_signatures"
      ],
      "execution_count": 34,
      "outputs": []
    },
    {
      "cell_type": "code",
      "metadata": {
        "colab": {
          "base_uri": "https://localhost:8080/"
        },
        "id": "zQh9zDX_KjnU",
        "outputId": "8e24990f-56a9-47e2-c92f-62faecb51a9a"
      },
      "source": [
        "findSignatureCounts1([4,1,3,2])"
      ],
      "execution_count": 35,
      "outputs": [
        {
          "output_type": "stream",
          "text": [
            "4 nextStudent\n",
            "4 1\n",
            "2 nextStudent Inner\n",
            "2 1\n",
            "1 nextStudent Inner\n",
            "1 nextStudent\n",
            "1 2\n",
            "4 nextStudent Inner\n",
            "4 2\n",
            "2 nextStudent Inner\n",
            "3 nextStudent\n",
            "2 nextStudent\n",
            "2 4\n",
            "1 nextStudent Inner\n",
            "1 4\n",
            "4 nextStudent Inner\n"
          ],
          "name": "stdout"
        },
        {
          "output_type": "execute_result",
          "data": {
            "text/plain": [
              "[3, 3, 1, 3]"
            ]
          },
          "metadata": {
            "tags": []
          },
          "execution_count": 35
        }
      ]
    }
  ]
}