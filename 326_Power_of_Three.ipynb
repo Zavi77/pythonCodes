{
  "nbformat": 4,
  "nbformat_minor": 0,
  "metadata": {
    "colab": {
      "name": "326. Power of Three",
      "provenance": []
    },
    "kernelspec": {
      "name": "python3",
      "display_name": "Python 3"
    },
    "language_info": {
      "name": "python"
    }
  },
  "cells": [
    {
      "cell_type": "code",
      "metadata": {
        "id": "UFJc10_d8MVM"
      },
      "source": [
        "import math\n",
        "class Solution:\n",
        "    def isPowerOfThree(self, n: int) -> bool:\n",
        "        if n==0:\n",
        "            return False\n",
        "        return n>0 and (math.log10(n)/math.log10(3))%1 == 0"
      ],
      "execution_count": null,
      "outputs": []
    }
  ]
}