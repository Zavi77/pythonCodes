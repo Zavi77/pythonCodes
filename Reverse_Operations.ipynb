{
  "nbformat": 4,
  "nbformat_minor": 0,
  "metadata": {
    "colab": {
      "name": "Reverse Operations",
      "provenance": []
    },
    "kernelspec": {
      "name": "python3",
      "display_name": "Python 3"
    },
    "language_info": {
      "name": "python"
    }
  },
  "cells": [
    {
      "cell_type": "code",
      "metadata": {
        "id": "UFJc10_d8MVM"
      },
      "source": [
        "def reverse(head):\n",
        "  dummy = Node(0)\n",
        "  dummy.next = head\n",
        "  \n",
        "  prev, curr = dummy , head\n",
        "  while curr:\n",
        "    while curr and curr.data % 2 == 1:\n",
        "      prev, curr = curr, curr.next\n",
        "    if not curr:\n",
        "      break\n",
        "    p = prev\n",
        "    tail = curr \n",
        "    while curr and curr.data % 2 == 0:\n",
        "      nxt = curr.next\n",
        "      curr.next = prev\n",
        "      prev  = curr\n",
        "      curr = nxt \n",
        "    p.next = prev\n",
        "    tail.next = curr\n",
        "  return dummy.next\n"
      ],
      "execution_count": 1,
      "outputs": []
    },
    {
      "cell_type": "code",
      "metadata": {
        "id": "bWZDsRy5cpFE"
      },
      "source": [
        ""
      ],
      "execution_count": null,
      "outputs": []
    },
    {
      "cell_type": "code",
      "metadata": {
        "id": "XQPRjY-WZES7"
      },
      "source": [
        ""
      ],
      "execution_count": null,
      "outputs": []
    },
    {
      "cell_type": "code",
      "metadata": {
        "id": "oU5-ca-AacuG"
      },
      "source": [
        ""
      ],
      "execution_count": null,
      "outputs": []
    },
    {
      "cell_type": "code",
      "metadata": {
        "id": "6wtvRyREZEYI"
      },
      "source": [
        ""
      ],
      "execution_count": null,
      "outputs": []
    },
    {
      "cell_type": "code",
      "metadata": {
        "id": "WJo77VHTZEay"
      },
      "source": [
        ""
      ],
      "execution_count": null,
      "outputs": []
    }
  ]
}