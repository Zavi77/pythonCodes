{
  "nbformat": 4,
  "nbformat_minor": 0,
  "metadata": {
    "colab": {
      "name": "Rotational Cipher",
      "provenance": []
    },
    "kernelspec": {
      "name": "python3",
      "display_name": "Python 3"
    },
    "language_info": {
      "name": "python"
    }
  },
  "cells": [
    {
      "cell_type": "code",
      "metadata": {
        "id": "UFJc10_d8MVM"
      },
      "source": [
        "import math\n",
        "# Add any extra import statements you may need here\n",
        "\n",
        "\n",
        "# Add any helper functions you may need here\n",
        "\n",
        "\n",
        "def rotationalCipher(input, rotation_factor):\n",
        "  # Write your code here\n",
        "  def encode(x,rf):\n",
        "    if x.isdigit():\n",
        "      x = int(x) + rf\n",
        "      x = str(x % 10)\n",
        "      return x\n",
        "    else:\n",
        "        if x.islower():\n",
        "          return chr(((ord(x) - ord('a') + rf) % 26)+ ord('a'))\n",
        "        else:\n",
        "          return chr(((ord(x) - ord('A') + rf) % 26)+ ord('A'))\n",
        "    \n",
        "  input1 = []\n",
        "  for i,v in enumerate(input):\n",
        "      if v.isalnum():\n",
        "        input1.append(encode(v,rotation_factor))\n",
        "      else:\n",
        "        input1.append(v)\n",
        "  return input\n",
        "\n",
        "\n"
      ],
      "execution_count": null,
      "outputs": []
    },
    {
      "cell_type": "code",
      "metadata": {
        "id": "bWZDsRy5cpFE"
      },
      "source": [
        "\n",
        "\n",
        "# These are the tests we use to determine if the solution is correct.\n",
        "# You can add your own at the bottom, but they are otherwise not editable!\n",
        "\n",
        "def printString(string):\n",
        "  print('[\\\"', string, '\\\"]', sep='', end='')\n",
        "\n",
        "test_case_number = 1\n",
        "\n",
        "def check(expected, output):\n",
        "  global test_case_number\n",
        "  result = False\n",
        "  if expected == output:\n",
        "    result = True\n",
        "  rightTick = '\\u2713'\n",
        "  wrongTick = '\\u2717'\n",
        "  if result:\n",
        "    print(rightTick, 'Test #', test_case_number, sep='')\n",
        "  else:\n",
        "    print(wrongTick, 'Test #', test_case_number, ': Expected ', sep='', end='')\n",
        "    printString(expected)\n",
        "    print(' Your output: ', end='')\n",
        "    printString(output)\n",
        "    print()\n",
        "  test_case_number += 1\n",
        "\n",
        "if __name__ == \"__main__\":\n",
        "  input_1 = \"All-convoYs-9-be:Alert1.\"\n",
        "  rotation_factor_1 = 4\n",
        "  expected_1 = \"Epp-gsrzsCw-3-fi:Epivx5.\"\n",
        "  output_1 = rotationalCipher(input_1, rotation_factor_1)\n",
        "  check(expected_1, output_1)\n",
        "\n",
        "  input_2 = \"abcdZXYzxy-999.@\"\n",
        "  rotation_factor_2 = 200\n",
        "  expected_2 = \"stuvRPQrpq-999.@\"\n",
        "  output_2 = rotationalCipher(input_2, rotation_factor_2)\n",
        "  check(expected_2, output_2)\n",
        "\n",
        "  # Add your own test cases here\n",
        "  "
      ],
      "execution_count": null,
      "outputs": []
    },
    {
      "cell_type": "code",
      "metadata": {
        "id": "XQPRjY-WZES7"
      },
      "source": [
        ""
      ],
      "execution_count": null,
      "outputs": []
    },
    {
      "cell_type": "code",
      "metadata": {
        "id": "oU5-ca-AacuG"
      },
      "source": [
        ""
      ],
      "execution_count": null,
      "outputs": []
    },
    {
      "cell_type": "code",
      "metadata": {
        "id": "6wtvRyREZEYI"
      },
      "source": [
        ""
      ],
      "execution_count": null,
      "outputs": []
    },
    {
      "cell_type": "code",
      "metadata": {
        "id": "WJo77VHTZEay"
      },
      "source": [
        ""
      ],
      "execution_count": null,
      "outputs": []
    }
  ]
}