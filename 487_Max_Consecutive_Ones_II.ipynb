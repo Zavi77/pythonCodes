{
  "nbformat": 4,
  "nbformat_minor": 0,
  "metadata": {
    "colab": {
      "name": "487. Max Consecutive Ones II",
      "provenance": [],
      "collapsed_sections": []
    },
    "kernelspec": {
      "name": "python3",
      "display_name": "Python 3"
    },
    "language_info": {
      "name": "python"
    }
  },
  "cells": [
    {
      "cell_type": "code",
      "metadata": {
        "id": "TpkqPIp8YLi9"
      },
      "source": [
        "class Solution:\n",
        "    def findMaxConsecutiveOnes(self, nums: List[int]) -> int:\n",
        "        prev, curr, maxv = -1, 0, 0\n",
        "        for n in nums:\n",
        "            if n == 0:\n",
        "                maxv = max(maxv,prev+curr+1)\n",
        "                prev , curr = curr, 0\n",
        "                \n",
        "            else:\n",
        "                curr+=1\n",
        "        maxv = max(maxv,prev+curr+1)    \n",
        "        return maxv\n",
        "        \n",
        "        "
      ],
      "execution_count": null,
      "outputs": []
    }
  ]
}