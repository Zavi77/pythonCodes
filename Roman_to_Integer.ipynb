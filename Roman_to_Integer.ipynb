{
  "nbformat": 4,
  "nbformat_minor": 0,
  "metadata": {
    "colab": {
      "name": "Roman to Integer",
      "provenance": []
    },
    "kernelspec": {
      "name": "python3",
      "display_name": "Python 3"
    },
    "language_info": {
      "name": "python"
    }
  },
  "cells": [
    {
      "cell_type": "code",
      "metadata": {
        "id": "a2uSZF5vVfP7"
      },
      "source": [
        "\n",
        "def romanToInt(s):\n",
        "    res=0\n",
        "    dc = {'I':1, 'V':5, 'X':10, 'L':50, 'C':100, 'D':500, 'M':1000}\n",
        "    left = len(s)-1\n",
        "    while left >= 0:\n",
        "        if left == 0 or dc[s[left-1]] >= dc[s[left]]:\n",
        "            \n",
        "            res += dc[s[left]]\n",
        "            left-=1\n",
        "            \n",
        "        else:\n",
        "            \n",
        "            res += dc[s[left]] - dc[s[left-1]]\n",
        "            left -= 2\n",
        "    return res\n",
        "                \n",
        "            \n"
      ],
      "execution_count": 3,
      "outputs": []
    },
    {
      "cell_type": "code",
      "metadata": {
        "colab": {
          "base_uri": "https://localhost:8080/"
        },
        "id": "sOKJSALwVfji",
        "outputId": "8470e439-efdf-437f-c282-e7125ea19b0b"
      },
      "source": [
        "s = \"LVIII\"\n",
        "romanToInt(s)\n"
      ],
      "execution_count": 4,
      "outputs": [
        {
          "output_type": "execute_result",
          "data": {
            "text/plain": [
              "58"
            ]
          },
          "metadata": {
            "tags": []
          },
          "execution_count": 4
        }
      ]
    }
  ]
}