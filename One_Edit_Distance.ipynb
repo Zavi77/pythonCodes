{
  "nbformat": 4,
  "nbformat_minor": 0,
  "metadata": {
    "colab": {
      "name": "One Edit Distance",
      "provenance": []
    },
    "kernelspec": {
      "name": "python3",
      "display_name": "Python 3"
    },
    "language_info": {
      "name": "python"
    }
  },
  "cells": [
    {
      "cell_type": "code",
      "metadata": {
        "id": "Hb6jeSmEhia1"
      },
      "source": [
        "\n",
        "def fun(s: str, t: str):\n",
        "    slen,tlen = len(s) ,len(t)\n",
        "    if abs(slen-tlen)>1 or s==t:\n",
        "      return False\n",
        "    \n",
        "    flag=False\n",
        "    i , j = 0 , 0\n",
        "    while i<slen and j<tlen:\n",
        "      if s[i]!=t[j]:\n",
        "        if flag: return False\n",
        "        flag = True\n",
        "        if slen<tlen:\n",
        "            i-=1\n",
        "        elif slen > tlen:\n",
        "            j-=1\n",
        "      i+=1\n",
        "      j+=1\n",
        "    return True\n"
      ],
      "execution_count": 71,
      "outputs": []
    },
    {
      "cell_type": "code",
      "metadata": {
        "colab": {
          "base_uri": "https://localhost:8080/"
        },
        "id": "1x_6hzsDjTfj",
        "outputId": "76aa9c4c-5e4a-4879-aaa4-7d35b1f5d1c4"
      },
      "source": [
        "s = \"gab\"\n",
        "t = \"gsab\"\n",
        "fun(s,t)"
      ],
      "execution_count": 76,
      "outputs": [
        {
          "output_type": "execute_result",
          "data": {
            "text/plain": [
              "True"
            ]
          },
          "metadata": {
            "tags": []
          },
          "execution_count": 76
        }
      ]
    }
  ]
}