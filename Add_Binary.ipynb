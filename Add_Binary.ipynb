{
  "nbformat": 4,
  "nbformat_minor": 0,
  "metadata": {
    "colab": {
      "name": "Add Binary",
      "provenance": []
    },
    "kernelspec": {
      "name": "python3",
      "display_name": "Python 3"
    },
    "language_info": {
      "name": "python"
    }
  },
  "cells": [
    {
      "cell_type": "markdown",
      "metadata": {
        "id": "biubTZazO_ZC"
      },
      "source": [
        "# Approach 1"
      ]
    },
    {
      "cell_type": "code",
      "metadata": {
        "id": "FtpBhM-oGQRv"
      },
      "source": [
        "def fun(a,b):\n",
        "  n = max(len(a),len(b))\n",
        "  a = a.zfill(n)\n",
        "  b = b.zfill(n)\n",
        "  a = a[::-1]\n",
        "  b = b[::-1]\n",
        "  res = []\n",
        "  carry = 0\n",
        "  for i in range(len(a)):\n",
        "    if a[i]=='1':\n",
        "      carry += 1\n",
        "    if b[i] == '1':\n",
        "      carry += 1\n",
        "    if carry%2 == 1:\n",
        "      res.append('1')\n",
        "    else:\n",
        "      res.append('0')\n",
        "    carry //=2\n",
        "  if carry:\n",
        "    res.append('1')\n",
        "  return ''.join(res[::-1])"
      ],
      "execution_count": 42,
      "outputs": []
    },
    {
      "cell_type": "code",
      "metadata": {
        "colab": {
          "base_uri": "https://localhost:8080/",
          "height": 35
        },
        "id": "x5iY42efeVuY",
        "outputId": "d1d1c86d-132c-4859-933e-f99f20cf7cac"
      },
      "source": [
        "a='101'\n",
        "b='11'\n",
        "fun(a,b)"
      ],
      "execution_count": 43,
      "outputs": [
        {
          "output_type": "execute_result",
          "data": {
            "application/vnd.google.colaboratory.intrinsic+json": {
              "type": "string"
            },
            "text/plain": [
              "'1000'"
            ]
          },
          "metadata": {
            "tags": []
          },
          "execution_count": 43
        }
      ]
    },
    {
      "cell_type": "markdown",
      "metadata": {
        "id": "fKX6cRMmO4KM"
      },
      "source": [
        "# Approach 2 Elegant"
      ]
    },
    {
      "cell_type": "code",
      "metadata": {
        "id": "K-ElY6wUOgyB"
      },
      "source": [
        "def fun1(a,b):\n",
        "  while carry:\n",
        "    add = a ^ b\n",
        "    carry = a & b << 1\n",
        "    a,b = add, carry\n",
        "  return a"
      ],
      "execution_count": 44,
      "outputs": []
    },
    {
      "cell_type": "code",
      "metadata": {
        "colab": {
          "base_uri": "https://localhost:8080/",
          "height": 35
        },
        "id": "QF3cRp_tO0go",
        "outputId": "c15524e4-f0ea-429d-cfd5-4815056d4b82"
      },
      "source": [
        "a='101'\n",
        "b='11'\n",
        "fun(a,b)"
      ],
      "execution_count": 45,
      "outputs": [
        {
          "output_type": "execute_result",
          "data": {
            "application/vnd.google.colaboratory.intrinsic+json": {
              "type": "string"
            },
            "text/plain": [
              "'1000'"
            ]
          },
          "metadata": {
            "tags": []
          },
          "execution_count": 45
        }
      ]
    }
  ]
}