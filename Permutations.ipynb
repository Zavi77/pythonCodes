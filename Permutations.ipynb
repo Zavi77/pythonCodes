{
  "nbformat": 4,
  "nbformat_minor": 0,
  "metadata": {
    "colab": {
      "name": "Permutations.ipynb",
      "provenance": [],
      "collapsed_sections": []
    },
    "kernelspec": {
      "name": "python3",
      "display_name": "Python 3"
    },
    "language_info": {
      "name": "python"
    }
  },
  "cells": [
    {
      "cell_type": "code",
      "metadata": {
        "id": "9Z3TAGEX9W3j"
      },
      "source": [
        "nums = [1,2,3]"
      ],
      "execution_count": 41,
      "outputs": []
    },
    {
      "cell_type": "markdown",
      "metadata": {
        "id": "dnn6bsUY2F7Y"
      },
      "source": [
        "# Approach 1"
      ]
    },
    {
      "cell_type": "code",
      "metadata": {
        "id": "Ke4ENu_q9cRB"
      },
      "source": [
        "def fun(num):\n",
        "  res = []\n",
        "  if len(num)==1:\n",
        "    return [num[:]]\n",
        "  for p in range(len(num)):\n",
        "    print(f'{p} round')\n",
        "    print(f'{num} is num')\n",
        "    n = num.pop(0)\n",
        "    print(n,num)\n",
        "    temp = fun(num)\n",
        "    print(f'{temp}is temp')\n",
        "    for i in temp:\n",
        "      i.append(n)\n",
        "    res.extend(temp)\n",
        "    print(f'{res} is res')\n",
        "    num.append(n)\n",
        "    print(f'{num} is num')\n",
        "  return res"
      ],
      "execution_count": 42,
      "outputs": []
    },
    {
      "cell_type": "code",
      "metadata": {
        "colab": {
          "base_uri": "https://localhost:8080/"
        },
        "id": "ZlQmhQGV_Qa5",
        "outputId": "a02a9bca-1ae4-4fae-d6ea-97c11c9a1243"
      },
      "source": [
        "fun(nums)"
      ],
      "execution_count": 43,
      "outputs": [
        {
          "output_type": "stream",
          "text": [
            "0 round\n",
            "[1, 2, 3] is num\n",
            "1 [2, 3]\n",
            "0 round\n",
            "[2, 3] is num\n",
            "2 [3]\n",
            "[[3]]is temp\n",
            "[[3, 2]] is res\n",
            "[3, 2] is num\n",
            "1 round\n",
            "[3, 2] is num\n",
            "3 [2]\n",
            "[[2]]is temp\n",
            "[[3, 2], [2, 3]] is res\n",
            "[2, 3] is num\n",
            "[[3, 2], [2, 3]]is temp\n",
            "[[3, 2, 1], [2, 3, 1]] is res\n",
            "[2, 3, 1] is num\n",
            "1 round\n",
            "[2, 3, 1] is num\n",
            "2 [3, 1]\n",
            "0 round\n",
            "[3, 1] is num\n",
            "3 [1]\n",
            "[[1]]is temp\n",
            "[[1, 3]] is res\n",
            "[1, 3] is num\n",
            "1 round\n",
            "[1, 3] is num\n",
            "1 [3]\n",
            "[[3]]is temp\n",
            "[[1, 3], [3, 1]] is res\n",
            "[3, 1] is num\n",
            "[[1, 3], [3, 1]]is temp\n",
            "[[3, 2, 1], [2, 3, 1], [1, 3, 2], [3, 1, 2]] is res\n",
            "[3, 1, 2] is num\n",
            "2 round\n",
            "[3, 1, 2] is num\n",
            "3 [1, 2]\n",
            "0 round\n",
            "[1, 2] is num\n",
            "1 [2]\n",
            "[[2]]is temp\n",
            "[[2, 1]] is res\n",
            "[2, 1] is num\n",
            "1 round\n",
            "[2, 1] is num\n",
            "2 [1]\n",
            "[[1]]is temp\n",
            "[[2, 1], [1, 2]] is res\n",
            "[1, 2] is num\n",
            "[[2, 1], [1, 2]]is temp\n",
            "[[3, 2, 1], [2, 3, 1], [1, 3, 2], [3, 1, 2], [2, 1, 3], [1, 2, 3]] is res\n",
            "[1, 2, 3] is num\n"
          ],
          "name": "stdout"
        },
        {
          "output_type": "execute_result",
          "data": {
            "text/plain": [
              "[[3, 2, 1], [2, 3, 1], [1, 3, 2], [3, 1, 2], [2, 1, 3], [1, 2, 3]]"
            ]
          },
          "metadata": {
            "tags": []
          },
          "execution_count": 43
        }
      ]
    },
    {
      "cell_type": "code",
      "metadata": {
        "id": "hpY2vERk1_jm"
      },
      "source": [
        ""
      ],
      "execution_count": null,
      "outputs": []
    },
    {
      "cell_type": "markdown",
      "metadata": {
        "id": "hMRjYBbs2Cla"
      },
      "source": [
        "# Approach 2"
      ]
    },
    {
      "cell_type": "code",
      "metadata": {
        "id": "TQ4oq01e0QJo"
      },
      "source": [
        "def fun2(nums):\n",
        "  res=[]\n",
        "  def backtrack(arr,path):\n",
        "    if not arr:\n",
        "      res.append(path)\n",
        "    for x in range(len(arr)):\n",
        "      backtrack(arr[:x]+arr[x+1:],path+[arr[x]])\n",
        "  backtrack(nums,[])\n",
        "  return res\n"
      ],
      "execution_count": 55,
      "outputs": []
    },
    {
      "cell_type": "code",
      "metadata": {
        "colab": {
          "base_uri": "https://localhost:8080/"
        },
        "id": "VujkaLWl1ns5",
        "outputId": "0ab7efbb-0540-4535-b5c0-a4261d423a71"
      },
      "source": [
        "fun2([1,2,3])"
      ],
      "execution_count": 56,
      "outputs": [
        {
          "output_type": "execute_result",
          "data": {
            "text/plain": [
              "[[1, 2, 3], [1, 3, 2], [2, 1, 3], [2, 3, 1], [3, 1, 2], [3, 2, 1]]"
            ]
          },
          "metadata": {
            "tags": []
          },
          "execution_count": 56
        }
      ]
    }
  ]
}