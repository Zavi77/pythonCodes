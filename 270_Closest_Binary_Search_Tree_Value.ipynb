{
  "nbformat": 4,
  "nbformat_minor": 0,
  "metadata": {
    "colab": {
      "name": "270. Closest Binary Search Tree Value",
      "provenance": []
    },
    "kernelspec": {
      "name": "python3",
      "display_name": "Python 3"
    },
    "language_info": {
      "name": "python"
    }
  },
  "cells": [
    {
      "cell_type": "code",
      "metadata": {
        "id": "9pA_Lrb-ZKlf"
      },
      "source": [
        "# Definition for a binary tree node.\n",
        "# class TreeNode:\n",
        "#     def __init__(self, val=0, left=None, right=None):\n",
        "#         self.val = val\n",
        "#         self.left = left\n",
        "#         self.right = right\n",
        "class Solution:\n",
        "    def closestValue(self, root: TreeNode, target: float) -> int:\n",
        "        close = root.val\n",
        "        while root:\n",
        "            close = min(root.val, close, key = lambda x: abs(target-x))\n",
        "            root = root.left if (target<root.val) else root.right\n",
        "        return close"
      ],
      "execution_count": null,
      "outputs": []
    }
  ]
}