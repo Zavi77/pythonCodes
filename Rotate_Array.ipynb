{
  "nbformat": 4,
  "nbformat_minor": 0,
  "metadata": {
    "colab": {
      "name": "Rotate Array",
      "provenance": []
    },
    "kernelspec": {
      "name": "python3",
      "display_name": "Python 3"
    },
    "language_info": {
      "name": "python"
    }
  },
  "cells": [
    {
      "cell_type": "code",
      "metadata": {
        "id": "e9s4p8ljZBrJ"
      },
      "source": [
        "\n",
        "class Solution:\n",
        "    \n",
        "    def reverse(self, nums: list, start: int, end: int) -> None:\n",
        "        while start < end:\n",
        "            nums[start], nums[end] = nums[end], nums[start]\n",
        "            start+=1\n",
        "            end-=1\n",
        "\n",
        "    def rotate(self, nums: List[int], k: int) -> None:\n",
        "        \"\"\"\n",
        "        Do not return anything, modify nums in-place instead.\n",
        "        \"\"\"\n",
        "        n = len(nums)\n",
        "        k %= n\n",
        "        \n",
        "            \n",
        "        self.reverse(nums,0,n-1)\n",
        "        self.reverse(nums,0,k-1)\n",
        "        self.reverse(nums,k,n-1)"
      ],
      "execution_count": null,
      "outputs": []
    }
  ]
}