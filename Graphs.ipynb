{
 "cells": [
  {
   "cell_type": "code",
   "execution_count": 1,
   "metadata": {},
   "outputs": [],
   "source": [
    "class Graph():\n",
    "    def __init__(self):\n",
    "        self.num = 0\n",
    "        self.edges = {}\n",
    "        \n",
    "    def addvertex(self,node):\n",
    "        self.num+=1\n",
    "        self.edges[node]=[]\n",
    "        \n",
    "    def addedge(self,node1,node2):\n",
    "        self.edges[node1].append(node2)\n",
    "        self.edges[node2].append(node1)\n",
    "        \n",
    "    def values(self):\n",
    "        print(self.num)\n",
    "        print(self.edges)"
   ]
  },
  {
   "cell_type": "code",
   "execution_count": 2,
   "metadata": {},
   "outputs": [],
   "source": [
    "g = Graph()\n",
    "g.addvertex(5)\n",
    "g.addvertex(4)\n",
    "g.addvertex(3)\n",
    "g.addvertex(2)\n"
   ]
  },
  {
   "cell_type": "code",
   "execution_count": 3,
   "metadata": {},
   "outputs": [
    {
     "name": "stdout",
     "output_type": "stream",
     "text": [
      "4\n",
      "{5: [], 4: [], 3: [], 2: []}\n"
     ]
    }
   ],
   "source": [
    "g.values()"
   ]
  },
  {
   "cell_type": "code",
   "execution_count": 4,
   "metadata": {},
   "outputs": [],
   "source": [
    "g.addedge(5,4)\n",
    "g.addedge(5,3)\n",
    "g.addedge(4,2)\n",
    "g.addedge(3,2)"
   ]
  },
  {
   "cell_type": "code",
   "execution_count": 5,
   "metadata": {},
   "outputs": [
    {
     "name": "stdout",
     "output_type": "stream",
     "text": [
      "4\n",
      "{5: [4, 3], 4: [5, 2], 3: [5, 2], 2: [4, 3]}\n"
     ]
    }
   ],
   "source": [
    "g.values()"
   ]
  }
 ],
 "metadata": {
  "kernelspec": {
   "display_name": "Python 3",
   "language": "python",
   "name": "python3"
  },
  "language_info": {
   "codemirror_mode": {
    "name": "ipython",
    "version": 3
   },
   "file_extension": ".py",
   "mimetype": "text/x-python",
   "name": "python",
   "nbconvert_exporter": "python",
   "pygments_lexer": "ipython3",
   "version": "3.7.4"
  }
 },
 "nbformat": 4,
 "nbformat_minor": 2
}
