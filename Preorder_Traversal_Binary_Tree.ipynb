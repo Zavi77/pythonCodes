{
  "nbformat": 4,
  "nbformat_minor": 0,
  "metadata": {
    "colab": {
      "name": "Preorder Traversal Binary Tree",
      "provenance": []
    },
    "kernelspec": {
      "name": "python3",
      "display_name": "Python 3"
    },
    "language_info": {
      "name": "python"
    }
  },
  "cells": [
    {
      "cell_type": "markdown",
      "metadata": {
        "id": "biubTZazO_ZC"
      },
      "source": [
        "# Approach 1 Iterative"
      ]
    },
    {
      "cell_type": "code",
      "metadata": {
        "id": "FtpBhM-oGQRv"
      },
      "source": [
        "# Definition for a binary tree node.\n",
        "# class TreeNode:\n",
        "#     def __init__(self, val=0, left=None, right=None):\n",
        "#         self.val = val\n",
        "#         self.left = left\n",
        "#         self.right = right\n",
        "class Solution:\n",
        "    def preorderTraversal(self, root: TreeNode) -> List[int]:\n",
        "        if root is None:\n",
        "            return []\n",
        "        stack = [root]\n",
        "        res = []\n",
        "        \n",
        "        while(stack):\n",
        "            root = stack.pop()\n",
        "            if root is not None:\n",
        "                res.append(root.val)\n",
        "                if root.right is not None:\n",
        "                    stack.append(root.right)\n",
        "                if root.left is not None:\n",
        "                    stack.append(root.left)\n",
        "                    \n",
        "        return res\n",
        "    "
      ],
      "execution_count": 42,
      "outputs": []
    },
    {
      "cell_type": "markdown",
      "metadata": {
        "id": "fKX6cRMmO4KM"
      },
      "source": [
        "# Approach 2 Recursive"
      ]
    },
    {
      "cell_type": "code",
      "metadata": {
        "id": "SD1YmkNEe-Uo"
      },
      "source": [
        "class Solution:\n",
        "    def preorderTraversal(self, root: TreeNode) -> List[int]:\n",
        "      if root is None:\n",
        "        return []\n",
        "      return [root.val] + self.preorderTraversal(root.left) + self.preorderTraversal(root.right)"
      ],
      "execution_count": null,
      "outputs": []
    }
  ]
}