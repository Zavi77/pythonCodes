{
  "nbformat": 4,
  "nbformat_minor": 0,
  "metadata": {
    "colab": {
      "name": "Group Anagrams",
      "provenance": [],
      "collapsed_sections": []
    },
    "kernelspec": {
      "name": "python3",
      "display_name": "Python 3"
    },
    "language_info": {
      "name": "python"
    }
  },
  "cells": [
    {
      "cell_type": "code",
      "metadata": {
        "id": "tt8TDY-vG2yf"
      },
      "source": [
        "from collections import defaultdict\n",
        "def fun(strs):\n",
        "  d = defaultdict(list)\n",
        "  for w in strs:\n",
        "    arr = [0]*26\n",
        "    for c in w:\n",
        "      arr[ord(c)-ord('a')] +=1\n",
        "    d[tuple(arr)].append(w)\n",
        "  return list(d.values())"
      ],
      "execution_count": 160,
      "outputs": []
    },
    {
      "cell_type": "code",
      "metadata": {
        "colab": {
          "base_uri": "https://localhost:8080/"
        },
        "id": "lRhgtB_MG6JN",
        "outputId": "771fe1e0-6599-433e-d9fc-96eb08b4234e"
      },
      "source": [
        "strs = [\"eat\",\"tea\",\"tan\",\"ate\",\"nat\",\"bat\"]\n",
        "fun(strs)"
      ],
      "execution_count": 161,
      "outputs": [
        {
          "output_type": "execute_result",
          "data": {
            "text/plain": [
              "[['eat', 'tea', 'ate'], ['tan', 'nat'], ['bat']]"
            ]
          },
          "metadata": {
            "tags": []
          },
          "execution_count": 161
        }
      ]
    },
    {
      "cell_type": "markdown",
      "metadata": {
        "id": "ZHLx9UTgG3u9"
      },
      "source": [
        "first try"
      ]
    },
    {
      "cell_type": "code",
      "metadata": {
        "id": "na0mWRlEZHO-"
      },
      "source": [
        "def fun1(strs):\n",
        "  dic = []\n",
        "  for i,w in enumerate(strs):\n",
        "    li=[]\n",
        "    li.append(w)\n",
        "    print(li)\n",
        "    for w1 in strs[i+1:]:\n",
        "      print(w,w1)\n",
        "      if len(set(w) ^ set(w1)) == 0:\n",
        "        print(True)\n",
        "        li.append(w1)\n",
        "        strs.remove(w1)\n",
        "    print(strs)\n",
        "    dic.append(li)\n",
        "    print(dic)\n",
        "  return dic\n"
      ],
      "execution_count": 132,
      "outputs": []
    },
    {
      "cell_type": "code",
      "metadata": {
        "colab": {
          "base_uri": "https://localhost:8080/"
        },
        "id": "-cBbaxi7ZH4b",
        "outputId": "36b90917-aadf-4558-8b10-5740e9a17b57"
      },
      "source": [
        "strs = [\"\",\"b\",\"\"]\n",
        "fun1(strs)"
      ],
      "execution_count": 133,
      "outputs": [
        {
          "output_type": "stream",
          "text": [
            "['']\n",
            " b\n",
            " \n",
            "True\n",
            "['b', '']\n",
            "[['', '']]\n",
            "['']\n",
            "['b', '']\n",
            "[['', ''], ['']]\n"
          ],
          "name": "stdout"
        },
        {
          "output_type": "execute_result",
          "data": {
            "text/plain": [
              "[['', ''], ['']]"
            ]
          },
          "metadata": {
            "tags": []
          },
          "execution_count": 133
        }
      ]
    },
    {
      "cell_type": "code",
      "metadata": {
        "colab": {
          "base_uri": "https://localhost:8080/"
        },
        "id": "hXEDTjDM4wgz",
        "outputId": "adf05278-8eab-42e8-e666-6e444623f8e2"
      },
      "source": [
        "set('') ^ set('b')"
      ],
      "execution_count": 110,
      "outputs": [
        {
          "output_type": "execute_result",
          "data": {
            "text/plain": [
              "{'b'}"
            ]
          },
          "metadata": {
            "tags": []
          },
          "execution_count": 110
        }
      ]
    }
  ]
}