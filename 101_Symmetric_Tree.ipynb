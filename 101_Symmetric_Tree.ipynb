{
  "nbformat": 4,
  "nbformat_minor": 0,
  "metadata": {
    "colab": {
      "name": "101. Symmetric Tree",
      "provenance": []
    },
    "kernelspec": {
      "name": "python3",
      "display_name": "Python 3"
    },
    "language_info": {
      "name": "python"
    }
  },
  "cells": [
    {
      "cell_type": "code",
      "metadata": {
        "id": "1obsypadpHOP"
      },
      "source": [
        "# Definition for a binary tree node.\n",
        "# class TreeNode:\n",
        "#     def __init__(self, val=0, left=None, right=None):\n",
        "#         self.val = val\n",
        "#         self.left = left\n",
        "#         self.right = right\n",
        "import collections\n",
        "\n",
        "class Solution:\n",
        "    def isSymmetric(self, root: TreeNode) -> bool:\n",
        "\n",
        "        q = collections.deque()\n",
        "        q.append(root)\n",
        "        \n",
        "        while(q):\n",
        "            qlen = len(q)\n",
        "            level = []\n",
        "            for _ in range(qlen):\n",
        "                node = q.popleft()\n",
        "                if node:\n",
        "                    level.append(node.val)\n",
        "                    q.append(node.left)\n",
        "                    q.append(node.right)\n",
        "                else:\n",
        "                    level.append(None)\n",
        "            l,r = 0, len(level)-1\n",
        "            while(l<r):\n",
        "                if level[l]!=level[r]:\n",
        "                    return False\n",
        "                l+=1; r-=1\n",
        "            \n",
        "        return True\n",
        "    "
      ],
      "execution_count": null,
      "outputs": []
    }
  ]
}