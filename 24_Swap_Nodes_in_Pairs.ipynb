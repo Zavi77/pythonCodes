{
  "nbformat": 4,
  "nbformat_minor": 0,
  "metadata": {
    "colab": {
      "name": "24. Swap Nodes in Pairs",
      "provenance": []
    },
    "kernelspec": {
      "name": "python3",
      "display_name": "Python 3"
    },
    "language_info": {
      "name": "python"
    }
  },
  "cells": [
    {
      "cell_type": "markdown",
      "metadata": {
        "id": "YoRW3hE9MCzX"
      },
      "source": [
        "Recursive"
      ]
    },
    {
      "cell_type": "code",
      "metadata": {
        "id": "Xvayi6c6MCUe"
      },
      "source": [
        "# Definition for singly-linked list.\n",
        "# class ListNode:\n",
        "#     def __init__(self, val=0, next=None):\n",
        "#         self.val = val\n",
        "#         self.next = next\n",
        "class Solution:\n",
        "    def swapPairs(self, head: ListNode) -> ListNode:\n",
        "      if not head or not head.next:\n",
        "        return head\n",
        "      first = head\n",
        "      second = head.next\n",
        "\n",
        "      first.next = self.swapPairs(second.next)\n",
        "      second.next = first\n",
        "\n",
        "      return second"
      ],
      "execution_count": null,
      "outputs": []
    },
    {
      "cell_type": "markdown",
      "metadata": {
        "id": "j5YVLw8NMHYo"
      },
      "source": [
        "Iterative"
      ]
    },
    {
      "cell_type": "code",
      "metadata": {
        "id": "2TgmIVRzMGrB"
      },
      "source": [
        "# Definition for singly-linked list.\n",
        "# class ListNode:\n",
        "#     def __init__(self, val=0, next=None):\n",
        "#         self.val = val\n",
        "#         self.next = next\n",
        "class Solution:\n",
        "    def swapPairs(self, head: ListNode) -> ListNode:\n",
        "        dummy = prev =  ListNode(0,head)\n",
        "        cur = head\n",
        "        \n",
        "        while cur and cur.next:\n",
        "            b = cur.next\n",
        "            prev.next, b.next, cur.next  = b, cur, b.next\n",
        "            prev = cur\n",
        "            cur = cur.next\n",
        "\n",
        "        return dummy.next"
      ],
      "execution_count": null,
      "outputs": []
    }
  ]
}